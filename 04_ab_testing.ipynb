{
 "cells": [
  {
   "cell_type": "markdown",
   "id": "a636baa6-bebf-4110-8b22-57534ce6650d",
   "metadata": {},
   "source": [
    "# A/B Testing\n",
    "\n",
    "In this notebook, we will explore the critical steps in an A/B test. From the scenario presented [^1], the goal is to _improve user retention_.\n",
    "\n",
    "The current game difficulty setting is _hard_ (control), and the assumption is lowering the difficulty to _medium_ (treatment) will improve user retention from 70% to 75%.\n",
    "\n",
    "| Type | Notes | Retention (%) |\n",
    "| - | - | - |\n",
    "| control | difficulty setting _hard_ | 70% |\n",
    "| treatment | difficulty setting _medium_ | 75% (desired) |\n",
    "\n",
    "\n",
    "There are other calculators available, such as [^2] or [^3]\n",
    "\n",
    "References:\n",
    "\n",
    "[^1]: https://datastud.dev/posts/ab-testing\n",
    "[^2]: https://stats.stackexchange.com/questions/605466/how-to-get-python-statsmodels-to-match-evan-millers-famous-ab-test-sample-size\n",
    "[^3]: https://abtestguide.com/abtestsize/\n",
    "- https://blog.marvik.ai/2023/07/31/making-the-right-changes-using-a-b-testing-to-optimize-your-product/"
   ]
  },
  {
   "cell_type": "markdown",
   "id": "dec25b53-13d6-4279-bf56-aaa0e93a6b38",
   "metadata": {},
   "source": [
    "## Minimum Detectable Effect\n",
    "\n",
    "In order for us to calculate the _sample size_ that we need to collect for the experiment, we first need to calculate the _minimum detectable effect_. The increase from 70% to 75% gives us the information required to calculate the MDE."
   ]
  },
  {
   "cell_type": "code",
   "execution_count": 5,
   "id": "bb3b8a26-2263-48c1-86e9-ad7e3b796a23",
   "metadata": {
    "execution": {
     "iopub.execute_input": "2024-04-14T16:33:25.041719Z",
     "iopub.status.busy": "2024-04-14T16:33:25.040654Z",
     "iopub.status.idle": "2024-04-14T16:33:25.078091Z",
     "shell.execute_reply": "2024-04-14T16:33:25.074589Z",
     "shell.execute_reply.started": "2024-04-14T16:33:25.041666Z"
    }
   },
   "outputs": [
    {
     "name": "stdout",
     "output_type": "stream",
     "text": [
      "From a change from 0.70 to 0.75, the effect size is -0.112\n"
     ]
    }
   ],
   "source": [
    "import statsmodels.api as sm\n",
    "\n",
    "init_prop = 0.7\n",
    "mde_prop = 0.75\n",
    "effect_size = sm.stats.proportion_effectsize(init_prop, mde_prop)\n",
    "print(\n",
    "    \"From a change from {:.2f} to {:.2f}, the effect size is {:.3f}\".format(\n",
    "        init_prop, mde_prop, effect_size\n",
    "    )\n",
    ")"
   ]
  },
  {
   "cell_type": "markdown",
   "id": "af2a0614-ac69-48b5-ab4f-169dfcd99597",
   "metadata": {},
   "source": [
    "## Sample Size\n",
    "\n",
    "Once we have our MDE, we can calculate the sample size required.\n",
    "\n",
    "We set `nobs1` (number of observations of sample 1) parameter to `None`, which signifies this is the value we are looking to solve.\n",
    "\n",
    "A **significance level of 0.05** and **power of 0.8** are commonly chosen default values, but can be adjusted based on the scenario and the desired false positive vs false negative sensitivity (?)"
   ]
  },
  {
   "cell_type": "markdown",
   "id": "259f9cd7-7d48-4f4f-bac2-553975f582fd",
   "metadata": {},
   "source": [
    "NOTE:\n",
    "\n",
    "`tt_ind_solve_power` and `zt_ind_solve_power` are shortcut functions in the statsmodels power module that can solve for any parameter in the power equations. The main difference between the two is how they treat the internal energy change. \n",
    "- tt_ind_solve_power: Calculates the sample size for a two independent sample t-test. It requires the following parameters:\n",
    "    - effect_size: The standardized effect size, which is the difference between the two means divided by the standard deviation. This value must be positive.\n",
    "- zt_ind_solve_power: Calculates the desired sample size for a z-test scenario. It requires the following parameters:\n",
    "    - Minimum size of the effect\n"
   ]
  },
  {
   "cell_type": "code",
   "execution_count": 93,
   "id": "8e502e88-e564-498f-a86f-71d4a8c34498",
   "metadata": {
    "execution": {
     "iopub.execute_input": "2024-04-14T17:41:39.700192Z",
     "iopub.status.busy": "2024-04-14T17:41:39.699249Z",
     "iopub.status.idle": "2024-04-14T17:41:39.891221Z",
     "shell.execute_reply": "2024-04-14T17:41:39.889168Z",
     "shell.execute_reply.started": "2024-04-14T17:41:39.700160Z"
    }
   },
   "outputs": [
    {
     "name": "stdout",
     "output_type": "stream",
     "text": [
      "1250 sample size required given power analysis and input parameters\n"
     ]
    }
   ],
   "source": [
    "from math import ceil\n",
    "\n",
    "# sm.stats.tt_ind_solve_power\n",
    "sample_size = sm.stats.zt_ind_solve_power(\n",
    "    effect_size=effect_size, nobs1=None, alpha=0.05, power=0.8\n",
    ")\n",
    "print(\n",
    "    \"{} sample size required given power analysis and input parameters\".format(\n",
    "        ceil(sample_size)\n",
    "    )\n",
    ")"
   ]
  },
  {
   "cell_type": "code",
   "execution_count": 98,
   "id": "f475accb-7cc2-4a22-a955-7b17fc919cf1",
   "metadata": {
    "execution": {
     "iopub.execute_input": "2024-04-14T17:43:12.466894Z",
     "iopub.status.busy": "2024-04-14T17:43:12.466349Z",
     "iopub.status.idle": "2024-04-14T17:43:12.543950Z",
     "shell.execute_reply": "2024-04-14T17:43:12.540933Z",
     "shell.execute_reply.started": "2024-04-14T17:43:12.466827Z"
    }
   },
   "outputs": [
    {
     "data": {
      "text/plain": [
       "1249.5838647379314"
      ]
     },
     "execution_count": 98,
     "metadata": {},
     "output_type": "execute_result"
    }
   ],
   "source": [
    "import statsmodels.stats.api as sms\n",
    "\n",
    "# Alternative\n",
    "required_n = sms.NormalIndPower().solve_power(effect_size, power=0.8, alpha=0.05)\n",
    "required_n"
   ]
  },
  {
   "cell_type": "markdown",
   "id": "ac125f5b-571b-46e8-81be-794f5187f4e7",
   "metadata": {},
   "source": [
    "## Experiment Data Overview\n",
    "\n",
    "We need to collect a random sample of 1,250 players that played the _medium_ level and the same amount of players that played the _hard_ level.\n",
    "\n",
    "For simulation, we assumed 980 users (of 1,250) continued playing after reaching the _medium_ difficulty level while 881 (of 1,250) continued playing after reaching the _hard_ difficulty level."
   ]
  },
  {
   "cell_type": "markdown",
   "id": "70f2a9bd-4f35-47f2-99e2-4cfe03134548",
   "metadata": {},
   "source": [
    "# Performing the z-test"
   ]
  },
  {
   "cell_type": "code",
   "execution_count": 70,
   "id": "6330a876-f648-4265-ad01-6383ce4e573b",
   "metadata": {
    "execution": {
     "iopub.execute_input": "2024-04-14T17:11:36.910420Z",
     "iopub.status.busy": "2024-04-14T17:11:36.909751Z",
     "iopub.status.idle": "2024-04-14T17:11:36.947230Z",
     "shell.execute_reply": "2024-04-14T17:11:36.945495Z",
     "shell.execute_reply.started": "2024-04-14T17:11:36.910384Z"
    }
   },
   "outputs": [],
   "source": [
    "# Get the z test requirements.\n",
    "medium_successes = 980  # treatment, (roughly 78%, 980/1250)\n",
    "hard_successes = 881  # control, (roughly 70%, 881/1250)\n",
    "trials = 1250"
   ]
  },
  {
   "cell_type": "code",
   "execution_count": 99,
   "id": "11024391-9b1b-42da-a460-6c78b27ec205",
   "metadata": {
    "execution": {
     "iopub.execute_input": "2024-04-14T17:45:37.540973Z",
     "iopub.status.busy": "2024-04-14T17:45:37.540290Z",
     "iopub.status.idle": "2024-04-14T17:45:37.552969Z",
     "shell.execute_reply": "2024-04-14T17:45:37.551772Z",
     "shell.execute_reply.started": "2024-04-14T17:45:37.540848Z"
    }
   },
   "outputs": [
    {
     "name": "stdout",
     "output_type": "stream",
     "text": [
      "z-stat of -4.54 and p-value of 0.00\n"
     ]
    }
   ],
   "source": [
    "from statsmodels.stats.proportion import proportions_ztest\n",
    "\n",
    "z_stat, p_value = proportions_ztest(\n",
    "    count=[hard_successes, medium_successes], nobs=trials  # [control, treatment]\n",
    ")\n",
    "print(\"z-stat of {:.2f} and p-value of {:.2f}\".format(z_stat, p_value))"
   ]
  },
  {
   "cell_type": "markdown",
   "id": "125fa15f-1df8-41f6-8004-3ee4472a58a7",
   "metadata": {},
   "source": [
    "A **p-value below 0.05** meets our criteria. Reducing the level difficulty to medium is the way to go."
   ]
  },
  {
   "cell_type": "code",
   "execution_count": 105,
   "id": "fc5cfdd6-ae6a-44f0-a49a-4cda854e1cdb",
   "metadata": {
    "execution": {
     "iopub.execute_input": "2024-04-14T17:52:12.993000Z",
     "iopub.status.busy": "2024-04-14T17:52:12.992423Z",
     "iopub.status.idle": "2024-04-14T17:52:13.028713Z",
     "shell.execute_reply": "2024-04-14T17:52:13.027229Z",
     "shell.execute_reply.started": "2024-04-14T17:52:12.992956Z"
    }
   },
   "outputs": [
    {
     "name": "stdout",
     "output_type": "stream",
     "text": [
      "confident interval for control group: [0.680, 0.730] (850 - 913)\n",
      "confident interval for treatment group: [0.761, 0.807] (952 - 1009)\n"
     ]
    }
   ],
   "source": [
    "from statsmodels.stats.proportion import proportion_confint\n",
    "\n",
    "(lower_con, lower_treat), (upper_con, upper_treat) = proportion_confint(\n",
    "    count=[hard_successes, medium_successes],\n",
    "    nobs=trials,\n",
    ")\n",
    "print(\n",
    "    \"confident interval for control group: [{:.3f}, {:.3f}] ({} - {})\".format(\n",
    "        lower_con, upper_con, ceil(lower_con * trials), ceil(upper_con * trials)\n",
    "    )\n",
    ")\n",
    "print(\n",
    "    \"confident interval for treatment group: [{:.3f}, {:.3f}] ({} - {})\".format(\n",
    "        lower_treat, upper_treat, ceil(lower_treat * trials), ceil(upper_treat * trials)\n",
    "    )\n",
    ")"
   ]
  },
  {
   "cell_type": "code",
   "execution_count": 76,
   "id": "71f2f674-1709-4149-b1c6-3b74b026fea1",
   "metadata": {
    "execution": {
     "iopub.execute_input": "2024-04-14T17:13:19.837059Z",
     "iopub.status.busy": "2024-04-14T17:13:19.836081Z",
     "iopub.status.idle": "2024-04-14T17:13:19.899256Z",
     "shell.execute_reply": "2024-04-14T17:13:19.897981Z",
     "shell.execute_reply.started": "2024-04-14T17:13:19.837026Z"
    }
   },
   "outputs": [
    {
     "name": "stdout",
     "output_type": "stream",
     "text": [
      "z-stat of -1.87 and p-value of 0.06\n"
     ]
    }
   ],
   "source": [
    "z_stat, p_value = proportions_ztest(count=[881, 923], nobs=1250)\n",
    "\n",
    "print(\"z-stat of {:.2f} and p-value of {:.2f}\".format(z_stat, p_value))"
   ]
  },
  {
   "cell_type": "code",
   "execution_count": 77,
   "id": "1eab37a4-2d2f-4ecd-8a39-0930c101a4a3",
   "metadata": {
    "execution": {
     "iopub.execute_input": "2024-04-14T17:13:20.291112Z",
     "iopub.status.busy": "2024-04-14T17:13:20.290748Z",
     "iopub.status.idle": "2024-04-14T17:13:20.300689Z",
     "shell.execute_reply": "2024-04-14T17:13:20.299318Z",
     "shell.execute_reply.started": "2024-04-14T17:13:20.291086Z"
    }
   },
   "outputs": [
    {
     "data": {
      "text/plain": [
       "937.5"
      ]
     },
     "execution_count": 77,
     "metadata": {},
     "output_type": "execute_result"
    }
   ],
   "source": [
    "75 / 100 * 1250"
   ]
  },
  {
   "cell_type": "code",
   "execution_count": 56,
   "id": "08c7d2f6-6d18-48ec-a908-ee3aa7d15d95",
   "metadata": {
    "execution": {
     "iopub.execute_input": "2024-04-14T17:00:09.210898Z",
     "iopub.status.busy": "2024-04-14T17:00:09.210477Z",
     "iopub.status.idle": "2024-04-14T17:00:09.287609Z",
     "shell.execute_reply": "2024-04-14T17:00:09.278130Z",
     "shell.execute_reply.started": "2024-04-14T17:00:09.210869Z"
    }
   },
   "outputs": [
    {
     "name": "stdout",
     "output_type": "stream",
     "text": [
      "t-stat: -4.56, p-value: 0.00\n"
     ]
    }
   ],
   "source": [
    "from statsmodels.stats.weightstats import ztest\n",
    "\n",
    "control = [1 if i < 881 else 0 for i in range(1250)]\n",
    "treatment = [1 if i < 980 else 0 for i in range(1250)]\n",
    "tstat, pvalue = ztest(control, treatment)\n",
    "print(\"t-stat: {:.2f}, p-value: {:.2f}\".format(tstat, pvalue))"
   ]
  },
  {
   "cell_type": "markdown",
   "id": "972c8f86-6f8f-478c-aa64-1b0478e72208",
   "metadata": {},
   "source": [
    "p-value is less than 0.05, so we can reject the null hypothesis."
   ]
  },
  {
   "cell_type": "code",
   "execution_count": 57,
   "id": "e570ab07-576b-43e3-95d5-bd622264d339",
   "metadata": {
    "execution": {
     "iopub.execute_input": "2024-04-14T17:00:11.222702Z",
     "iopub.status.busy": "2024-04-14T17:00:11.221605Z",
     "iopub.status.idle": "2024-04-14T17:00:11.285747Z",
     "shell.execute_reply": "2024-04-14T17:00:11.280764Z",
     "shell.execute_reply.started": "2024-04-14T17:00:11.222661Z"
    }
   },
   "outputs": [
    {
     "name": "stdout",
     "output_type": "stream",
     "text": [
      "t-stat: -1.87, p-value: 0.06\n"
     ]
    }
   ],
   "source": [
    "control = [1 if i < 881 else 0 for i in range(1250)]\n",
    "treatment = [1 if i < 923 else 0 for i in range(1250)]\n",
    "tstat, pvalue = ztest(control, treatment)\n",
    "print(\"t-stat: {:.2f}, p-value: {:.2f}\".format(tstat, pvalue))"
   ]
  },
  {
   "cell_type": "markdown",
   "id": "20a6dcb1-3b3e-4142-bed4-33577cb5ecc6",
   "metadata": {
    "execution": {
     "iopub.execute_input": "2024-04-14T17:00:44.839303Z",
     "iopub.status.busy": "2024-04-14T17:00:44.838512Z",
     "iopub.status.idle": "2024-04-14T17:00:44.920408Z",
     "shell.execute_reply": "2024-04-14T17:00:44.917444Z",
     "shell.execute_reply.started": "2024-04-14T17:00:44.839264Z"
    }
   },
   "source": [
    "p-value is more than 0.05, so we cannot reject the null hypothesis."
   ]
  },
  {
   "cell_type": "code",
   "execution_count": 88,
   "id": "86a7956e-98a6-435b-85c4-ccaffca33c0d",
   "metadata": {
    "execution": {
     "iopub.execute_input": "2024-04-14T17:22:06.428639Z",
     "iopub.status.busy": "2024-04-14T17:22:06.427739Z",
     "iopub.status.idle": "2024-04-14T17:22:06.516339Z",
     "shell.execute_reply": "2024-04-14T17:22:06.438346Z",
     "shell.execute_reply.started": "2024-04-14T17:22:06.428423Z"
    }
   },
   "outputs": [
    {
     "data": {
      "text/plain": [
       "985.0710001811176"
      ]
     },
     "execution_count": 88,
     "metadata": {},
     "output_type": "execute_result"
    }
   ],
   "source": []
  },
  {
   "cell_type": "code",
   "execution_count": null,
   "id": "c2bbc5a4-a376-441a-98b4-9fdae8de3a21",
   "metadata": {},
   "outputs": [],
   "source": []
  }
 ],
 "metadata": {
  "kernelspec": {
   "display_name": "Python 3 (ipykernel)",
   "language": "python",
   "name": "python3"
  },
  "language_info": {
   "codemirror_mode": {
    "name": "ipython",
    "version": 3
   },
   "file_extension": ".py",
   "mimetype": "text/x-python",
   "name": "python",
   "nbconvert_exporter": "python",
   "pygments_lexer": "ipython3",
   "version": "3.11.9"
  },
  "widgets": {
   "application/vnd.jupyter.widget-state+json": {
    "state": {},
    "version_major": 2,
    "version_minor": 0
   }
  }
 },
 "nbformat": 4,
 "nbformat_minor": 5
}
