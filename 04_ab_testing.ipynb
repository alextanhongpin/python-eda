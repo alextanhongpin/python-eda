{
 "cells": [
  {
   "cell_type": "markdown",
   "id": "a636baa6-bebf-4110-8b22-57534ce6650d",
   "metadata": {},
   "source": [
    "# A/B Testing\n",
    "\n",
    "In A/B testing, we want to evaluate the performance of the **treatment** relative to **control**.\n",
    "\n",
    "In this notebook, we will explore the critical steps in an A/B test. From the scenario presented [^1], the goal is to _improve user retention_.\n",
    "\n",
    "The current game difficulty setting is _hard_ (control), and the assumption is lowering the difficulty to _medium_ (treatment) will improve user retention from 70% to 75%.\n",
    "\n",
    "| Type | Notes | Retention (%) |\n",
    "| - | - | - |\n",
    "| control | difficulty setting _hard_ | 70% |\n",
    "| treatment | difficulty setting _medium_ | 75% (desired) |\n",
    "\n",
    "\n",
    "There are other calculators available, such as [^2] or [^3]\n",
    "\n",
    "References:\n",
    "\n",
    "[^1]: https://datastud.dev/posts/ab-testing\n",
    "[^2]: https://stats.stackexchange.com/questions/605466/how-to-get-python-statsmodels-to-match-evan-millers-famous-ab-test-sample-size\n",
    "[^3]: https://abtestguide.com/abtestsize/\n",
    "- https://blog.marvik.ai/2023/07/31/making-the-right-changes-using-a-b-testing-to-optimize-your-product/"
   ]
  },
  {
   "cell_type": "markdown",
   "id": "dec25b53-13d6-4279-bf56-aaa0e93a6b38",
   "metadata": {},
   "source": [
    "## Minimum Detectable Effect\n",
    "\n",
    "In order for us to calculate the _sample size_ that we need to collect for the experiment, we first need to calculate the _minimum detectable effect_. The increase from 70% to 75% gives us the information required to calculate the MDE."
   ]
  },
  {
   "cell_type": "code",
   "execution_count": 111,
   "id": "bb3b8a26-2263-48c1-86e9-ad7e3b796a23",
   "metadata": {
    "execution": {
     "iopub.execute_input": "2024-04-15T15:20:19.015659Z",
     "iopub.status.busy": "2024-04-15T15:20:19.015072Z",
     "iopub.status.idle": "2024-04-15T15:20:19.024945Z",
     "shell.execute_reply": "2024-04-15T15:20:19.023955Z",
     "shell.execute_reply.started": "2024-04-15T15:20:19.015634Z"
    }
   },
   "outputs": [
    {
     "name": "stdout",
     "output_type": "stream",
     "text": [
      "From a change from 0.70 to 0.75, the effect size is -0.112\n"
     ]
    }
   ],
   "source": [
    "import statsmodels.api as sm\n",
    "\n",
    "# From 70% to 75%\n",
    "init_prop = 0.70\n",
    "mde_prop = 0.75\n",
    "effect_size = sm.stats.proportion_effectsize(init_prop, mde_prop)\n",
    "print(\n",
    "    \"From a change from {:.2f} to {:.2f}, the effect size is {:.3f}\".format(\n",
    "        init_prop, mde_prop, effect_size\n",
    "    )\n",
    ")"
   ]
  },
  {
   "cell_type": "markdown",
   "id": "af2a0614-ac69-48b5-ab4f-169dfcd99597",
   "metadata": {},
   "source": [
    "## Sample Size\n",
    "\n",
    "Once we have our MDE, we can calculate the sample size required.\n",
    "\n",
    "We set `nobs1` (number of observations of sample 1) parameter to `None`, which signifies this is the value we are looking to solve.\n",
    "\n",
    "A **significance level of 0.05** and **power of 0.8** are commonly chosen default values, but can be adjusted based on the scenario and the desired false positive vs false negative sensitivity (?)"
   ]
  },
  {
   "cell_type": "markdown",
   "id": "259f9cd7-7d48-4f4f-bac2-553975f582fd",
   "metadata": {},
   "source": [
    "NOTE:\n",
    "\n",
    "`tt_ind_solve_power` and `zt_ind_solve_power` are shortcut functions in the statsmodels power module that can solve for any parameter in the power equations. The main difference between the two is how they treat the internal energy change. \n",
    "- tt_ind_solve_power: Calculates the sample size for a two independent sample t-test. It requires the following parameters:\n",
    "    - effect_size: The standardized effect size, which is the difference between the two means divided by the standard deviation. This value must be positive.\n",
    "- zt_ind_solve_power: Calculates the desired sample size for a z-test scenario. It requires the following parameters:\n",
    "    - Minimum size of the effect\n"
   ]
  },
  {
   "cell_type": "code",
   "execution_count": 114,
   "id": "8e502e88-e564-498f-a86f-71d4a8c34498",
   "metadata": {
    "execution": {
     "iopub.execute_input": "2024-04-15T15:21:48.588057Z",
     "iopub.status.busy": "2024-04-15T15:21:48.587304Z",
     "iopub.status.idle": "2024-04-15T15:21:48.654325Z",
     "shell.execute_reply": "2024-04-15T15:21:48.653072Z",
     "shell.execute_reply.started": "2024-04-15T15:21:48.588026Z"
    }
   },
   "outputs": [
    {
     "name": "stdout",
     "output_type": "stream",
     "text": [
      "1250 sample size required given power analysis and input parameters\n"
     ]
    }
   ],
   "source": [
    "from math import ceil\n",
    "\n",
    "# sm.stats.tt_ind_solve_power\n",
    "sample_size = sm.stats.zt_ind_solve_power(\n",
    "    effect_size=effect_size, nobs1=None, alpha=0.05, power=0.8\n",
    ")\n",
    "print(\n",
    "    \"{} sample size required given power analysis and input parameters\".format(\n",
    "        ceil(sample_size)\n",
    "    )\n",
    ")"
   ]
  },
  {
   "cell_type": "code",
   "execution_count": 98,
   "id": "f475accb-7cc2-4a22-a955-7b17fc919cf1",
   "metadata": {
    "execution": {
     "iopub.execute_input": "2024-04-14T17:43:12.466894Z",
     "iopub.status.busy": "2024-04-14T17:43:12.466349Z",
     "iopub.status.idle": "2024-04-14T17:43:12.543950Z",
     "shell.execute_reply": "2024-04-14T17:43:12.540933Z",
     "shell.execute_reply.started": "2024-04-14T17:43:12.466827Z"
    }
   },
   "outputs": [
    {
     "data": {
      "text/plain": [
       "1249.5838647379314"
      ]
     },
     "execution_count": 98,
     "metadata": {},
     "output_type": "execute_result"
    }
   ],
   "source": [
    "import statsmodels.stats.api as sms\n",
    "\n",
    "# Alternative\n",
    "required_n = sms.NormalIndPower().solve_power(effect_size, power=0.8, alpha=0.05)\n",
    "required_n"
   ]
  },
  {
   "cell_type": "markdown",
   "id": "ac125f5b-571b-46e8-81be-794f5187f4e7",
   "metadata": {},
   "source": [
    "## Experiment Data Overview\n",
    "\n",
    "We need to collect a random sample of 1,250 players that played the _medium_ level and the same amount of players that played the _hard_ level.\n",
    "\n",
    "For simulation, we assumed 980 users (of 1,250) continued playing after reaching the _medium_ difficulty level while 881 (of 1,250) continued playing after reaching the _hard_ difficulty level."
   ]
  },
  {
   "cell_type": "markdown",
   "id": "70f2a9bd-4f35-47f2-99e2-4cfe03134548",
   "metadata": {},
   "source": [
    "# Performing the z-test"
   ]
  },
  {
   "cell_type": "code",
   "execution_count": 115,
   "id": "6330a876-f648-4265-ad01-6383ce4e573b",
   "metadata": {
    "execution": {
     "iopub.execute_input": "2024-04-15T15:22:13.949095Z",
     "iopub.status.busy": "2024-04-15T15:22:13.948420Z",
     "iopub.status.idle": "2024-04-15T15:22:13.962572Z",
     "shell.execute_reply": "2024-04-15T15:22:13.956304Z",
     "shell.execute_reply.started": "2024-04-15T15:22:13.949064Z"
    }
   },
   "outputs": [],
   "source": [
    "# Get the z test requirements.\n",
    "medium_successes = 980  # treatment, (roughly 78%, 980/1250)\n",
    "hard_successes = 881  # control, (roughly 70%, 881/1250)\n",
    "trials = 1250"
   ]
  },
  {
   "cell_type": "code",
   "execution_count": 129,
   "id": "748bb0fa-721b-4143-b2a5-93c7d81c4513",
   "metadata": {
    "execution": {
     "iopub.execute_input": "2024-04-15T15:31:35.080002Z",
     "iopub.status.busy": "2024-04-15T15:31:35.079445Z",
     "iopub.status.idle": "2024-04-15T15:31:35.136415Z",
     "shell.execute_reply": "2024-04-15T15:31:35.126282Z",
     "shell.execute_reply.started": "2024-04-15T15:31:35.079961Z"
    }
   },
   "outputs": [
    {
     "data": {
      "text/plain": [
       "(0.784, 0.7048)"
      ]
     },
     "execution_count": 129,
     "metadata": {},
     "output_type": "execute_result"
    }
   ],
   "source": [
    "medium_successes / trials, hard_successes / trials"
   ]
  },
  {
   "cell_type": "code",
   "execution_count": 99,
   "id": "11024391-9b1b-42da-a460-6c78b27ec205",
   "metadata": {
    "execution": {
     "iopub.execute_input": "2024-04-14T17:45:37.540973Z",
     "iopub.status.busy": "2024-04-14T17:45:37.540290Z",
     "iopub.status.idle": "2024-04-14T17:45:37.552969Z",
     "shell.execute_reply": "2024-04-14T17:45:37.551772Z",
     "shell.execute_reply.started": "2024-04-14T17:45:37.540848Z"
    }
   },
   "outputs": [
    {
     "name": "stdout",
     "output_type": "stream",
     "text": [
      "z-stat of -4.54 and p-value of 0.00\n"
     ]
    }
   ],
   "source": [
    "from statsmodels.stats.proportion import proportions_ztest\n",
    "\n",
    "z_stat, p_value = proportions_ztest(\n",
    "    count=[hard_successes, medium_successes], nobs=trials  # [control, treatment]\n",
    ")\n",
    "print(\"z-stat of {:.2f} and p-value of {:.2f}\".format(z_stat, p_value))"
   ]
  },
  {
   "cell_type": "markdown",
   "id": "125fa15f-1df8-41f6-8004-3ee4472a58a7",
   "metadata": {},
   "source": [
    "A **p-value below 0.05** meets our criteria. Reducing the level difficulty to medium is the way to go."
   ]
  },
  {
   "cell_type": "code",
   "execution_count": 105,
   "id": "fc5cfdd6-ae6a-44f0-a49a-4cda854e1cdb",
   "metadata": {
    "execution": {
     "iopub.execute_input": "2024-04-14T17:52:12.993000Z",
     "iopub.status.busy": "2024-04-14T17:52:12.992423Z",
     "iopub.status.idle": "2024-04-14T17:52:13.028713Z",
     "shell.execute_reply": "2024-04-14T17:52:13.027229Z",
     "shell.execute_reply.started": "2024-04-14T17:52:12.992956Z"
    }
   },
   "outputs": [
    {
     "name": "stdout",
     "output_type": "stream",
     "text": [
      "confident interval for control group: [0.680, 0.730] (850 - 913)\n",
      "confident interval for treatment group: [0.761, 0.807] (952 - 1009)\n"
     ]
    }
   ],
   "source": [
    "from statsmodels.stats.proportion import proportion_confint\n",
    "\n",
    "(lower_con, lower_treat), (upper_con, upper_treat) = proportion_confint(\n",
    "    count=[hard_successes, medium_successes],\n",
    "    nobs=trials,\n",
    ")\n",
    "print(\n",
    "    \"confident interval for control group: [{:.3f}, {:.3f}] ({} - {})\".format(\n",
    "        lower_con, upper_con, ceil(lower_con * trials), ceil(upper_con * trials)\n",
    "    )\n",
    ")\n",
    "print(\n",
    "    \"confident interval for treatment group: [{:.3f}, {:.3f}] ({} - {})\".format(\n",
    "        lower_treat, upper_treat, ceil(lower_treat * trials), ceil(upper_treat * trials)\n",
    "    )\n",
    ")"
   ]
  },
  {
   "cell_type": "code",
   "execution_count": 76,
   "id": "71f2f674-1709-4149-b1c6-3b74b026fea1",
   "metadata": {
    "execution": {
     "iopub.execute_input": "2024-04-14T17:13:19.837059Z",
     "iopub.status.busy": "2024-04-14T17:13:19.836081Z",
     "iopub.status.idle": "2024-04-14T17:13:19.899256Z",
     "shell.execute_reply": "2024-04-14T17:13:19.897981Z",
     "shell.execute_reply.started": "2024-04-14T17:13:19.837026Z"
    }
   },
   "outputs": [
    {
     "name": "stdout",
     "output_type": "stream",
     "text": [
      "z-stat of -1.87 and p-value of 0.06\n"
     ]
    }
   ],
   "source": [
    "z_stat, p_value = proportions_ztest(count=[881, 923], nobs=1250)\n",
    "\n",
    "print(\"z-stat of {:.2f} and p-value of {:.2f}\".format(z_stat, p_value))"
   ]
  },
  {
   "cell_type": "code",
   "execution_count": 195,
   "id": "1eab37a4-2d2f-4ecd-8a39-0930c101a4a3",
   "metadata": {
    "execution": {
     "iopub.execute_input": "2024-04-15T16:09:12.047050Z",
     "iopub.status.busy": "2024-04-15T16:09:12.046169Z",
     "iopub.status.idle": "2024-04-15T16:09:12.095908Z",
     "shell.execute_reply": "2024-04-15T16:09:12.093626Z",
     "shell.execute_reply.started": "2024-04-15T16:09:12.047005Z"
    }
   },
   "outputs": [
    {
     "data": {
      "text/plain": [
       "937.5"
      ]
     },
     "execution_count": 195,
     "metadata": {},
     "output_type": "execute_result"
    }
   ],
   "source": [
    "75 / 100 * 1250"
   ]
  },
  {
   "cell_type": "code",
   "execution_count": 137,
   "id": "08c7d2f6-6d18-48ec-a908-ee3aa7d15d95",
   "metadata": {
    "execution": {
     "iopub.execute_input": "2024-04-15T15:35:12.911972Z",
     "iopub.status.busy": "2024-04-15T15:35:12.911509Z",
     "iopub.status.idle": "2024-04-15T15:35:12.983642Z",
     "shell.execute_reply": "2024-04-15T15:35:12.977690Z",
     "shell.execute_reply.started": "2024-04-15T15:35:12.911934Z"
    }
   },
   "outputs": [
    {
     "name": "stdout",
     "output_type": "stream",
     "text": [
      "t-stat: -3.79, p-value: 0.00\n"
     ]
    }
   ],
   "source": [
    "import numpy as np\n",
    "from statsmodels.stats.weightstats import ztest\n",
    "\n",
    "control = np.random.binomial(n=1, p=hard_successes / trials, size=trials)\n",
    "treatment = np.random.binomial(n=1, p=medium_successes / trials, size=trials)\n",
    "tstat, pvalue = ztest(control, treatment)\n",
    "print(\"t-stat: {:.2f}, p-value: {:.2f}\".format(tstat, pvalue))"
   ]
  },
  {
   "cell_type": "markdown",
   "id": "972c8f86-6f8f-478c-aa64-1b0478e72208",
   "metadata": {},
   "source": [
    "p-value is less than 0.05, so we can reject the null hypothesis."
   ]
  },
  {
   "cell_type": "code",
   "execution_count": 191,
   "id": "e570ab07-576b-43e3-95d5-bd622264d339",
   "metadata": {
    "execution": {
     "iopub.execute_input": "2024-04-15T16:01:28.866419Z",
     "iopub.status.busy": "2024-04-15T16:01:28.861367Z",
     "iopub.status.idle": "2024-04-15T16:01:28.904567Z",
     "shell.execute_reply": "2024-04-15T16:01:28.901584Z",
     "shell.execute_reply.started": "2024-04-15T16:01:28.866285Z"
    }
   },
   "outputs": [
    {
     "name": "stdout",
     "output_type": "stream",
     "text": [
      "t-stat: -0.80, p-value: 0.42\n"
     ]
    }
   ],
   "source": [
    "control = np.random.binomial(n=1, p=hard_successes / trials, size=trials)\n",
    "treatment = np.random.binomial(n=1, p=923 / trials, size=trials)\n",
    "tstat, pvalue = ztest(control, treatment)\n",
    "print(\"t-stat: {:.2f}, p-value: {:.2f}\".format(tstat, pvalue))"
   ]
  },
  {
   "cell_type": "markdown",
   "id": "20a6dcb1-3b3e-4142-bed4-33577cb5ecc6",
   "metadata": {
    "execution": {
     "iopub.execute_input": "2024-04-14T17:00:44.839303Z",
     "iopub.status.busy": "2024-04-14T17:00:44.838512Z",
     "iopub.status.idle": "2024-04-14T17:00:44.920408Z",
     "shell.execute_reply": "2024-04-14T17:00:44.917444Z",
     "shell.execute_reply.started": "2024-04-14T17:00:44.839264Z"
    }
   },
   "source": [
    "p-value is more than 0.05, so we cannot reject the null hypothesis."
   ]
  },
  {
   "cell_type": "markdown",
   "id": "9ccc795c-374c-49a6-b53b-3fe693aede54",
   "metadata": {
    "execution": {
     "iopub.execute_input": "2024-04-15T16:01:50.962482Z",
     "iopub.status.busy": "2024-04-15T16:01:50.959019Z",
     "iopub.status.idle": "2024-04-15T16:01:50.983729Z",
     "shell.execute_reply": "2024-04-15T16:01:50.980875Z",
     "shell.execute_reply.started": "2024-04-15T16:01:50.962437Z"
    }
   },
   "source": [
    "## One-sided vs two-sided tests\n",
    "\n",
    "What are the differences between one-tailed and two-tailed tests?\n",
    "The main difference between these two types of tests is that two-tailed tests can show evidence that the control and variation are different, whereas one-tailed tests can show evidence if variation is better than the control."
   ]
  },
  {
   "cell_type": "code",
   "execution_count": 193,
   "id": "e04ac805-8b57-4d5d-b992-d95a823a8ef3",
   "metadata": {
    "execution": {
     "iopub.execute_input": "2024-04-15T16:03:29.470990Z",
     "iopub.status.busy": "2024-04-15T16:03:29.470192Z",
     "iopub.status.idle": "2024-04-15T16:03:29.565715Z",
     "shell.execute_reply": "2024-04-15T16:03:29.477710Z",
     "shell.execute_reply.started": "2024-04-15T16:03:29.470934Z"
    }
   },
   "outputs": [],
   "source": [
    "def pre_test_analysis(estimated_conversion, uplift_percentage):\n",
    "    minimum_detectable_effect = estimated_conversion + uplift_percentage\n",
    "    effect_size = sm.stats.proportion_effectsize(\n",
    "        estimated_conversion, minimum_detectable_effect\n",
    "    )\n",
    "    sample_size = sm.stats.zt_ind_solve_power(\n",
    "        effect_size=effect_size,\n",
    "        nobs1=None,\n",
    "        alpha=0.05,\n",
    "        power=0.8,\n",
    "        alternative=\"smaller\",\n",
    "    )\n",
    "    return ceil(sample_size)"
   ]
  },
  {
   "cell_type": "code",
   "execution_count": 194,
   "id": "c55c7b6d-2948-4dfb-8b68-348b2375337d",
   "metadata": {
    "execution": {
     "iopub.execute_input": "2024-04-15T16:03:30.495775Z",
     "iopub.status.busy": "2024-04-15T16:03:30.495297Z",
     "iopub.status.idle": "2024-04-15T16:03:30.519374Z",
     "shell.execute_reply": "2024-04-15T16:03:30.518303Z",
     "shell.execute_reply.started": "2024-04-15T16:03:30.495740Z"
    }
   },
   "outputs": [
    {
     "name": "stdout",
     "output_type": "stream",
     "text": [
      "sample size of 985 required for a change for a 5% uplift of existing 70% conversion\n"
     ]
    }
   ],
   "source": [
    "sample_size = pre_test_analysis(0.7, 0.05)\n",
    "print(\n",
    "    \"sample size of {} required for a change for a {:.0f}% uplift of existing {:.0f}% conversion\".format(\n",
    "        sample_size, 0.05 * 100, 0.7 * 100\n",
    "    )\n",
    ")"
   ]
  },
  {
   "cell_type": "code",
   "execution_count": 206,
   "id": "5428a113-6d64-4649-92b4-b3f95738a7ac",
   "metadata": {
    "execution": {
     "iopub.execute_input": "2024-04-15T16:24:26.042279Z",
     "iopub.status.busy": "2024-04-15T16:24:26.041186Z",
     "iopub.status.idle": "2024-04-15T16:24:26.048902Z",
     "shell.execute_reply": "2024-04-15T16:24:26.047453Z",
     "shell.execute_reply.started": "2024-04-15T16:24:26.042242Z"
    }
   },
   "outputs": [],
   "source": [
    "def test_evaluation(control_obs, control_trials, treatment_obs, treatment_trials):\n",
    "    z_stat, p_value = proportions_ztest(\n",
    "        count=[control_obs, treatment_obs],\n",
    "        nobs=[control_trials, treatment_trials],  # [control, treatment]\n",
    "        alternative=\"smaller\",  # Alternative hypothesis: control is smaller than treatment.\n",
    "    )\n",
    "    # Reject the null hypothesis.\n",
    "    is_significant = p_value <= 0.05\n",
    "    return p_value, is_significant"
   ]
  },
  {
   "cell_type": "code",
   "execution_count": 207,
   "id": "26b5cc3f-6ad1-432d-b15a-f595daff87c4",
   "metadata": {
    "execution": {
     "iopub.execute_input": "2024-04-15T16:24:26.154472Z",
     "iopub.status.busy": "2024-04-15T16:24:26.153740Z",
     "iopub.status.idle": "2024-04-15T16:24:26.164511Z",
     "shell.execute_reply": "2024-04-15T16:24:26.163226Z",
     "shell.execute_reply.started": "2024-04-15T16:24:26.154440Z"
    }
   },
   "outputs": [
    {
     "data": {
      "text/plain": [
       "(0.006476387125691457, True)"
      ]
     },
     "execution_count": 207,
     "metadata": {},
     "output_type": "execute_result"
    }
   ],
   "source": [
    "test_evaluation(0.70 * sample_size, sample_size, 0.75 * sample_size, sample_size)"
   ]
  },
  {
   "cell_type": "code",
   "execution_count": 208,
   "id": "26df691d-44d1-400d-a9b4-0ea9a1e3fe04",
   "metadata": {
    "execution": {
     "iopub.execute_input": "2024-04-15T16:24:26.670391Z",
     "iopub.status.busy": "2024-04-15T16:24:26.670016Z",
     "iopub.status.idle": "2024-04-15T16:24:26.690167Z",
     "shell.execute_reply": "2024-04-15T16:24:26.688939Z",
     "shell.execute_reply.started": "2024-04-15T16:24:26.670364Z"
    }
   },
   "outputs": [
    {
     "data": {
      "text/plain": [
       "(1.0, False)"
      ]
     },
     "execution_count": 208,
     "metadata": {},
     "output_type": "execute_result"
    }
   ],
   "source": [
    "test_evaluation(0.70 * sample_size, sample_size, 0.5 * sample_size, sample_size)"
   ]
  },
  {
   "cell_type": "markdown",
   "id": "50b795e1-73aa-4d3e-a8c5-baacc0e670e2",
   "metadata": {},
   "source": [
    "## Notes\n",
    "\n",
    "This is basically the flow to do A/B testing. Pre:\n",
    "- find out the existing base conversion rate first. You can't improve what you don't know\n",
    "- set the target uplift percentage\n",
    "- calculate the sample size required\n",
    "- define the variant\n",
    "\n",
    "Run experiment:\n",
    "- sample size not reached - collect up to the sample size\n",
    "- sample size is reached, but control conversion still haven't reached - continue collecting\n",
    "    - if the base conversion still haven't hit after a period of time, stop the experiment\n",
    "- otherwise, if it hits, stop the collection and evaluate\n",
    "\n",
    "Collect data\n",
    "- user visit the site\n",
    "- based on the user identifier (hash of user id or email, return them control or treatment)\n",
    "- submit the event as visited\n",
    "- identify the CTA to indicate success, e.g. purchase, or clicking on an add\n",
    "- submit the event as clicked\n",
    "- the clicked over visited ratio is the conversion rate\n",
    "\n",
    "Post experiment:\n",
    "- we have a few options\n",
    "  - turn off the A/B test\n",
    "  - evaluate the A/B test, if significant, switch automatically\n",
    "  - if not significant, revert back and generate report\n",
    "\n",
    "\n"
   ]
  },
  {
   "cell_type": "code",
   "execution_count": null,
   "id": "81df1c5e-f506-4fdd-83ba-b648a6da2b87",
   "metadata": {},
   "outputs": [],
   "source": []
  }
 ],
 "metadata": {
  "kernelspec": {
   "display_name": "Python 3 (ipykernel)",
   "language": "python",
   "name": "python3"
  },
  "language_info": {
   "codemirror_mode": {
    "name": "ipython",
    "version": 3
   },
   "file_extension": ".py",
   "mimetype": "text/x-python",
   "name": "python",
   "nbconvert_exporter": "python",
   "pygments_lexer": "ipython3",
   "version": "3.11.9"
  },
  "widgets": {
   "application/vnd.jupyter.widget-state+json": {
    "state": {},
    "version_major": 2,
    "version_minor": 0
   }
  }
 },
 "nbformat": 4,
 "nbformat_minor": 5
}
