{
 "cells": [
  {
   "cell_type": "markdown",
   "id": "9d1096d6-9c22-461c-855a-67b2c24d8035",
   "metadata": {},
   "source": [
    "# Comparing against abtestguide.com\n",
    "\n",
    "https://abtestguide.com/abtestsize/"
   ]
  },
  {
   "cell_type": "code",
   "execution_count": 9,
   "id": "960976a5-36f9-4677-b111-6ef9765e2f2d",
   "metadata": {
    "execution": {
     "iopub.execute_input": "2024-04-25T09:03:41.996460Z",
     "iopub.status.busy": "2024-04-25T09:03:41.994741Z",
     "iopub.status.idle": "2024-04-25T09:03:42.008934Z",
     "shell.execute_reply": "2024-04-25T09:03:42.007258Z",
     "shell.execute_reply.started": "2024-04-25T09:03:41.996390Z"
    }
   },
   "outputs": [],
   "source": [
    "import math\n",
    "\n",
    "import statsmodels.api as sm\n",
    "\n",
    "\n",
    "def how_many_visitors_do_you_need(\n",
    "    conversion_rate_control, relative_improvement, hypothesis=\"two-sided\"\n",
    "):\n",
    "    if hypothesis not in (\"one-sided\", \"two-sided\"):\n",
    "        raise ValueError(\"hypothesis can only be one-sided or two-sided\")\n",
    "    # The null hypothesis is the B (treatment) is smaller than A (control).\n",
    "    # If the test is significant, we can reject the null hypothesis,\n",
    "    # which means B IS LARGER than A.\n",
    "    if hypothesis == \"one-sided\":\n",
    "        hypothesis = \"smaller\"\n",
    "\n",
    "    A_conv = conversion_rate_control\n",
    "    B_conv = A_conv * (1 + relative_improvement)\n",
    "    effect_size = sm.stats.proportion_effectsize(A_conv, B_conv)\n",
    "    sample_size = sm.stats.zt_ind_solve_power(\n",
    "        effect_size=effect_size,\n",
    "        nobs1=None,\n",
    "        alpha=0.05,\n",
    "        power=0.8,\n",
    "        alternative=hypothesis,\n",
    "    )\n",
    "    # Round up, because visitors cannot be float.\n",
    "    return math.ceil(sample_size)"
   ]
  },
  {
   "cell_type": "code",
   "execution_count": 15,
   "id": "41b47605-9cb5-417b-a0f5-e03819f8489c",
   "metadata": {
    "execution": {
     "iopub.execute_input": "2024-04-25T09:06:35.709270Z",
     "iopub.status.busy": "2024-04-25T09:06:35.690008Z",
     "iopub.status.idle": "2024-04-25T09:06:35.819833Z",
     "shell.execute_reply": "2024-04-25T09:06:35.816513Z",
     "shell.execute_reply.started": "2024-04-25T09:06:35.709216Z"
    }
   },
   "outputs": [
    {
     "data": {
      "text/plain": [
       "(28870, 36650)"
      ]
     },
     "execution_count": 15,
     "metadata": {},
     "output_type": "execute_result"
    }
   ],
   "source": [
    "one_sided = how_many_visitors_do_you_need(0.02, 0.15, hypothesis=\"one-sided\")\n",
    "two_sided = how_many_visitors_do_you_need(0.02, 0.15, hypothesis=\"two-sided\")\n",
    "one_sided, two_sided"
   ]
  },
  {
   "cell_type": "code",
   "execution_count": 16,
   "id": "b7810717-ba79-41a5-8825-38bee4438ba6",
   "metadata": {
    "execution": {
     "iopub.execute_input": "2024-04-25T09:08:16.549021Z",
     "iopub.status.busy": "2024-04-25T09:08:16.547873Z",
     "iopub.status.idle": "2024-04-25T09:08:16.618061Z",
     "shell.execute_reply": "2024-04-25T09:08:16.616247Z",
     "shell.execute_reply.started": "2024-04-25T09:08:16.548972Z"
    }
   },
   "outputs": [
    {
     "data": {
      "text/plain": [
       "(1027, 1303)"
      ]
     },
     "execution_count": 16,
     "metadata": {},
     "output_type": "execute_result"
    }
   ],
   "source": [
    "one_sided = how_many_visitors_do_you_need(0.7, 0.07, hypothesis=\"one-sided\")\n",
    "two_sided = how_many_visitors_do_you_need(0.7, 0.07, hypothesis=\"two-sided\")\n",
    "one_sided, two_sided"
   ]
  },
  {
   "cell_type": "code",
   "execution_count": 43,
   "id": "7f751da8-8e9d-4240-b5cb-82155370a18a",
   "metadata": {
    "execution": {
     "iopub.execute_input": "2024-04-25T09:32:29.592898Z",
     "iopub.status.busy": "2024-04-25T09:32:29.592338Z",
     "iopub.status.idle": "2024-04-25T09:32:29.622340Z",
     "shell.execute_reply": "2024-04-25T09:32:29.621241Z",
     "shell.execute_reply.started": "2024-04-25T09:32:29.592860Z"
    }
   },
   "outputs": [],
   "source": [
    "from statsmodels.stats.power import zt_ind_solve_power\n",
    "from statsmodels.stats.proportion import proportions_ztest\n",
    "\n",
    "\n",
    "def post_test_evaluation(\n",
    "    visitors_A, conversion_A, visitors_B, conversion_B, hypothesis=\"two-sided\"\n",
    "):\n",
    "    if hypothesis not in (\"one-sided\", \"two-sided\"):\n",
    "        raise ValueError(\"hypothesis can only be one-sided or two-sided\")\n",
    "    # The null hypothesis is the B (treatment) is smaller than A (control).\n",
    "    # If the test is significant, we can reject the null hypothesis,\n",
    "    # which means B IS LARGER than A.\n",
    "    if hypothesis == \"one-sided\":\n",
    "        hypothesis = \"smaller\"\n",
    "\n",
    "    z_stat, p_value = proportions_ztest(\n",
    "        count=[conversion_A, conversion_B],\n",
    "        nobs=[visitors_A, visitors_B],  # [control, treatment]\n",
    "        alternative=hypothesis,  # Alternative hypothesis: control is smaller than treatment.\n",
    "    )\n",
    "\n",
    "    cr_A = conversion_A / visitors_A\n",
    "    cr_B = conversion_B / visitors_B\n",
    "    se_A = math.sqrt(cr_A * (1 - cr_A) / visitors_A)\n",
    "    se_B = math.sqrt(cr_B * (1 - cr_B) / visitors_B)\n",
    "    se_delta = math.sqrt(se_A**2 + se_B**2)\n",
    "\n",
    "    effect_size = sm.stats.proportion_effectsize(cr_A, cr_B)\n",
    "\n",
    "    power = zt_ind_solve_power(\n",
    "        effect_size=effect_size,\n",
    "        nobs1=visitors_A,\n",
    "        alpha=0.05,\n",
    "        power=None,\n",
    "        ratio=0,\n",
    "        alternative=hypothesis,\n",
    "    )\n",
    "\n",
    "    return {\n",
    "        \"z_score\": z_stat,\n",
    "        \"p_value\": p_value,\n",
    "        \"is_significant\": p_value <= 0.05,\n",
    "        \"visitors_A\": visitors_A,\n",
    "        \"conversion_A\": conversion_A,\n",
    "        \"visitors_B\": visitors_B,\n",
    "        \"conversion_B\": conversion_B,\n",
    "        \"conversion_rate_A\": cr_A,\n",
    "        \"conversion_rate_B\": cr_B,\n",
    "        \"relative_uplift_in_conversion_rate\": (cr_B - cr_A) / cr_A,\n",
    "        \"standard_error_A\": se_A,\n",
    "        \"standard_error_B\": se_B,\n",
    "        \"standard_error_delta\": se_delta,\n",
    "        \"power\": power,\n",
    "    }"
   ]
  },
  {
   "cell_type": "code",
   "execution_count": 44,
   "id": "07a9be0c-550c-41f6-af5a-b129a9f53898",
   "metadata": {
    "execution": {
     "iopub.execute_input": "2024-04-25T09:32:30.146482Z",
     "iopub.status.busy": "2024-04-25T09:32:30.145415Z",
     "iopub.status.idle": "2024-04-25T09:32:30.175120Z",
     "shell.execute_reply": "2024-04-25T09:32:30.174001Z",
     "shell.execute_reply.started": "2024-04-25T09:32:30.146427Z"
    }
   },
   "outputs": [
    {
     "data": {
      "text/plain": [
       "({'z_score': -5.773502691896263,\n",
       "  'p_value': 3.882018268965222e-09,\n",
       "  'is_significant': True,\n",
       "  'visitors_A': 1250,\n",
       "  'conversion_A': 875,\n",
       "  'visitors_B': 1250,\n",
       "  'conversion_B': 1000,\n",
       "  'conversion_rate_A': 0.7,\n",
       "  'conversion_rate_B': 0.8,\n",
       "  'relative_uplift_in_conversion_rate': 0.142857142857143,\n",
       "  'standard_error_A': 0.012961481396815721,\n",
       "  'standard_error_B': 0.011313708498984758,\n",
       "  'standard_error_delta': 0.017204650534085254,\n",
       "  'power': 0.9999999999725547},\n",
       " {'z_score': -5.773502691896263,\n",
       "  'p_value': 7.764036537930444e-09,\n",
       "  'is_significant': True,\n",
       "  'visitors_A': 1250,\n",
       "  'conversion_A': 875,\n",
       "  'visitors_B': 1250,\n",
       "  'conversion_B': 1000,\n",
       "  'conversion_rate_A': 0.7,\n",
       "  'conversion_rate_B': 0.8,\n",
       "  'relative_uplift_in_conversion_rate': 0.142857142857143,\n",
       "  'standard_error_A': 0.012961481396815721,\n",
       "  'standard_error_B': 0.011313708498984758,\n",
       "  'standard_error_delta': 0.017204650534085254,\n",
       "  'power': 0.9999999997838817})"
      ]
     },
     "execution_count": 44,
     "metadata": {},
     "output_type": "execute_result"
    }
   ],
   "source": [
    "one_sided = post_test_evaluation(\n",
    "    conversion_A=875,\n",
    "    visitors_A=1250,\n",
    "    conversion_B=1000,\n",
    "    visitors_B=1250,\n",
    "    hypothesis=\"one-sided\",\n",
    ")\n",
    "two_sided = post_test_evaluation(\n",
    "    conversion_A=875,\n",
    "    visitors_A=1250,\n",
    "    conversion_B=1000,\n",
    "    visitors_B=1250,\n",
    "    hypothesis=\"two-sided\",\n",
    ")\n",
    "\n",
    "one_sided, two_sided"
   ]
  },
  {
   "cell_type": "code",
   "execution_count": 45,
   "id": "85ea1c23-26fb-41f5-8f7b-94a10baa10d8",
   "metadata": {
    "execution": {
     "iopub.execute_input": "2024-04-25T09:32:30.955130Z",
     "iopub.status.busy": "2024-04-25T09:32:30.954377Z",
     "iopub.status.idle": "2024-04-25T09:32:31.001989Z",
     "shell.execute_reply": "2024-04-25T09:32:30.998993Z",
     "shell.execute_reply.started": "2024-04-25T09:32:30.955072Z"
    }
   },
   "outputs": [
    {
     "data": {
      "text/plain": [
       "({'z_score': -0.5702344571435011,\n",
       "  'p_value': 0.28425934424193905,\n",
       "  'is_significant': False,\n",
       "  'visitors_A': 1250,\n",
       "  'conversion_A': 875,\n",
       "  'visitors_B': 1250,\n",
       "  'conversion_B': 888,\n",
       "  'conversion_rate_A': 0.7,\n",
       "  'conversion_rate_B': 0.7104,\n",
       "  'relative_uplift_in_conversion_rate': 0.014857142857142966,\n",
       "  'standard_error_A': 0.012961481396815721,\n",
       "  'standard_error_B': 0.012829086951143483,\n",
       "  'standard_error_delta': 0.018236926056767352,\n",
       "  'power': 0.2009052297836434},\n",
       " {'z_score': -0.5702344571435011,\n",
       "  'p_value': 0.5685186884838781,\n",
       "  'is_significant': False,\n",
       "  'visitors_A': 1250,\n",
       "  'conversion_A': 875,\n",
       "  'visitors_B': 1250,\n",
       "  'conversion_B': 888,\n",
       "  'conversion_rate_A': 0.7,\n",
       "  'conversion_rate_B': 0.7104,\n",
       "  'relative_uplift_in_conversion_rate': 0.014857142857142966,\n",
       "  'standard_error_A': 0.012961481396815721,\n",
       "  'standard_error_B': 0.012829086951143483,\n",
       "  'standard_error_delta': 0.018236926056767352,\n",
       "  'power': 0.1271858084138313})"
      ]
     },
     "execution_count": 45,
     "metadata": {},
     "output_type": "execute_result"
    }
   ],
   "source": [
    "one_sided = post_test_evaluation(\n",
    "    conversion_A=875,\n",
    "    visitors_A=1250,\n",
    "    conversion_B=888,\n",
    "    visitors_B=1250,\n",
    "    hypothesis=\"one-sided\",\n",
    ")\n",
    "two_sided = post_test_evaluation(\n",
    "    conversion_A=875,\n",
    "    visitors_A=1250,\n",
    "    conversion_B=888,\n",
    "    visitors_B=1250,\n",
    "    hypothesis=\"two-sided\",\n",
    ")\n",
    "\n",
    "one_sided, two_sided"
   ]
  }
 ],
 "metadata": {
  "kernelspec": {
   "display_name": "Python 3 (ipykernel)",
   "language": "python",
   "name": "python3"
  },
  "language_info": {
   "codemirror_mode": {
    "name": "ipython",
    "version": 3
   },
   "file_extension": ".py",
   "mimetype": "text/x-python",
   "name": "python",
   "nbconvert_exporter": "python",
   "pygments_lexer": "ipython3",
   "version": "3.11.9"
  },
  "widgets": {
   "application/vnd.jupyter.widget-state+json": {
    "state": {},
    "version_major": 2,
    "version_minor": 0
   }
  }
 },
 "nbformat": 4,
 "nbformat_minor": 5
}
