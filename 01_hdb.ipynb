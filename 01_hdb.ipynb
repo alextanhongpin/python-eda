{
 "cells": [
  {
   "cell_type": "markdown",
   "id": "3384cb5e-d31a-4884-a1ab-fc4262a1efe1",
   "metadata": {
    "execution": {
     "iopub.execute_input": "2024-04-10T08:53:50.211985Z",
     "iopub.status.busy": "2024-04-10T08:53:50.211602Z",
     "iopub.status.idle": "2024-04-10T08:53:50.221078Z",
     "shell.execute_reply": "2024-04-10T08:53:50.218920Z",
     "shell.execute_reply.started": "2024-04-10T08:53:50.211951Z"
    }
   },
   "source": [
    "\n",
    "# HDB Data Analysis\n",
    "https://beta.data.gov.sg/datasets/d_8b84c4ee58e3cfc0ece0d773c8ca6abc/view"
   ]
  },
  {
   "cell_type": "code",
   "execution_count": 13,
   "id": "13636914-7809-4ca4-a199-d2dec050bef5",
   "metadata": {
    "execution": {
     "iopub.execute_input": "2024-04-10T08:59:00.816303Z",
     "iopub.status.busy": "2024-04-10T08:59:00.815390Z",
     "iopub.status.idle": "2024-04-10T08:59:07.883804Z",
     "shell.execute_reply": "2024-04-10T08:59:07.882865Z",
     "shell.execute_reply.started": "2024-04-10T08:59:00.816255Z"
    }
   },
   "outputs": [
    {
     "data": {
      "text/html": [
       "<div>\n",
       "<style scoped>\n",
       "    .dataframe tbody tr th:only-of-type {\n",
       "        vertical-align: middle;\n",
       "    }\n",
       "\n",
       "    .dataframe tbody tr th {\n",
       "        vertical-align: top;\n",
       "    }\n",
       "\n",
       "    .dataframe thead th {\n",
       "        text-align: right;\n",
       "    }\n",
       "</style>\n",
       "<table border=\"1\" class=\"dataframe\">\n",
       "  <thead>\n",
       "    <tr style=\"text-align: right;\">\n",
       "      <th></th>\n",
       "      <th>month</th>\n",
       "      <th>town</th>\n",
       "      <th>flat_type</th>\n",
       "      <th>block</th>\n",
       "      <th>street_name</th>\n",
       "      <th>storey_range</th>\n",
       "      <th>floor_area_sqm</th>\n",
       "      <th>flat_model</th>\n",
       "      <th>lease_commence_date</th>\n",
       "      <th>remaining_lease</th>\n",
       "      <th>resale_price</th>\n",
       "    </tr>\n",
       "  </thead>\n",
       "  <tbody>\n",
       "    <tr>\n",
       "      <th>0</th>\n",
       "      <td>2017-01</td>\n",
       "      <td>ANG MO KIO</td>\n",
       "      <td>2 ROOM</td>\n",
       "      <td>406</td>\n",
       "      <td>ANG MO KIO AVE 10</td>\n",
       "      <td>10 TO 12</td>\n",
       "      <td>44.0</td>\n",
       "      <td>Improved</td>\n",
       "      <td>1979</td>\n",
       "      <td>61 years 04 months</td>\n",
       "      <td>232000.0</td>\n",
       "    </tr>\n",
       "    <tr>\n",
       "      <th>1</th>\n",
       "      <td>2017-01</td>\n",
       "      <td>ANG MO KIO</td>\n",
       "      <td>3 ROOM</td>\n",
       "      <td>108</td>\n",
       "      <td>ANG MO KIO AVE 4</td>\n",
       "      <td>01 TO 03</td>\n",
       "      <td>67.0</td>\n",
       "      <td>New Generation</td>\n",
       "      <td>1978</td>\n",
       "      <td>60 years 07 months</td>\n",
       "      <td>250000.0</td>\n",
       "    </tr>\n",
       "    <tr>\n",
       "      <th>2</th>\n",
       "      <td>2017-01</td>\n",
       "      <td>ANG MO KIO</td>\n",
       "      <td>3 ROOM</td>\n",
       "      <td>602</td>\n",
       "      <td>ANG MO KIO AVE 5</td>\n",
       "      <td>01 TO 03</td>\n",
       "      <td>67.0</td>\n",
       "      <td>New Generation</td>\n",
       "      <td>1980</td>\n",
       "      <td>62 years 05 months</td>\n",
       "      <td>262000.0</td>\n",
       "    </tr>\n",
       "    <tr>\n",
       "      <th>3</th>\n",
       "      <td>2017-01</td>\n",
       "      <td>ANG MO KIO</td>\n",
       "      <td>3 ROOM</td>\n",
       "      <td>465</td>\n",
       "      <td>ANG MO KIO AVE 10</td>\n",
       "      <td>04 TO 06</td>\n",
       "      <td>68.0</td>\n",
       "      <td>New Generation</td>\n",
       "      <td>1980</td>\n",
       "      <td>62 years 01 month</td>\n",
       "      <td>265000.0</td>\n",
       "    </tr>\n",
       "    <tr>\n",
       "      <th>4</th>\n",
       "      <td>2017-01</td>\n",
       "      <td>ANG MO KIO</td>\n",
       "      <td>3 ROOM</td>\n",
       "      <td>601</td>\n",
       "      <td>ANG MO KIO AVE 5</td>\n",
       "      <td>01 TO 03</td>\n",
       "      <td>67.0</td>\n",
       "      <td>New Generation</td>\n",
       "      <td>1980</td>\n",
       "      <td>62 years 05 months</td>\n",
       "      <td>265000.0</td>\n",
       "    </tr>\n",
       "  </tbody>\n",
       "</table>\n",
       "</div>"
      ],
      "text/plain": [
       "     month        town flat_type block        street_name storey_range  \\\n",
       "0  2017-01  ANG MO KIO    2 ROOM   406  ANG MO KIO AVE 10     10 TO 12   \n",
       "1  2017-01  ANG MO KIO    3 ROOM   108   ANG MO KIO AVE 4     01 TO 03   \n",
       "2  2017-01  ANG MO KIO    3 ROOM   602   ANG MO KIO AVE 5     01 TO 03   \n",
       "3  2017-01  ANG MO KIO    3 ROOM   465  ANG MO KIO AVE 10     04 TO 06   \n",
       "4  2017-01  ANG MO KIO    3 ROOM   601   ANG MO KIO AVE 5     01 TO 03   \n",
       "\n",
       "   floor_area_sqm      flat_model  lease_commence_date     remaining_lease  \\\n",
       "0            44.0        Improved                 1979  61 years 04 months   \n",
       "1            67.0  New Generation                 1978  60 years 07 months   \n",
       "2            67.0  New Generation                 1980  62 years 05 months   \n",
       "3            68.0  New Generation                 1980   62 years 01 month   \n",
       "4            67.0  New Generation                 1980  62 years 05 months   \n",
       "\n",
       "   resale_price  \n",
       "0      232000.0  \n",
       "1      250000.0  \n",
       "2      262000.0  \n",
       "3      265000.0  \n",
       "4      265000.0  "
      ]
     },
     "execution_count": 13,
     "metadata": {},
     "output_type": "execute_result"
    }
   ],
   "source": [
    "import pandas as pd\n",
    "import seaborn as sns\n",
    "\n",
    "df = pd.read_csv(\"data/ResaleflatpricesbasedonregistrationdatefromJan2017onwards.csv\")\n",
    "df.head()"
   ]
  },
  {
   "cell_type": "code",
   "execution_count": 19,
   "id": "1f830940-cb86-4adf-ac4c-99eb16835253",
   "metadata": {
    "execution": {
     "iopub.execute_input": "2024-04-10T09:00:20.679596Z",
     "iopub.status.busy": "2024-04-10T09:00:20.677161Z",
     "iopub.status.idle": "2024-04-10T09:00:20.901302Z",
     "shell.execute_reply": "2024-04-10T09:00:20.899543Z",
     "shell.execute_reply.started": "2024-04-10T09:00:20.679507Z"
    }
   },
   "outputs": [
    {
     "data": {
      "text/html": [
       "<div>\n",
       "<style scoped>\n",
       "    .dataframe tbody tr th:only-of-type {\n",
       "        vertical-align: middle;\n",
       "    }\n",
       "\n",
       "    .dataframe tbody tr th {\n",
       "        vertical-align: top;\n",
       "    }\n",
       "\n",
       "    .dataframe thead th {\n",
       "        text-align: right;\n",
       "    }\n",
       "</style>\n",
       "<table border=\"1\" class=\"dataframe\">\n",
       "  <thead>\n",
       "    <tr style=\"text-align: right;\">\n",
       "      <th></th>\n",
       "      <th>month</th>\n",
       "      <th>town</th>\n",
       "      <th>flat_type</th>\n",
       "      <th>block</th>\n",
       "      <th>street_name</th>\n",
       "      <th>storey_range</th>\n",
       "      <th>floor_area_sqm</th>\n",
       "      <th>flat_model</th>\n",
       "      <th>lease_commence_date</th>\n",
       "      <th>remaining_lease</th>\n",
       "      <th>resale_price</th>\n",
       "      <th>year</th>\n",
       "    </tr>\n",
       "  </thead>\n",
       "  <tbody>\n",
       "    <tr>\n",
       "      <th>0</th>\n",
       "      <td>2017-01</td>\n",
       "      <td>ANG MO KIO</td>\n",
       "      <td>2 ROOM</td>\n",
       "      <td>406</td>\n",
       "      <td>ANG MO KIO AVE 10</td>\n",
       "      <td>10 TO 12</td>\n",
       "      <td>44.0</td>\n",
       "      <td>Improved</td>\n",
       "      <td>1979</td>\n",
       "      <td>61 years 04 months</td>\n",
       "      <td>232000.0</td>\n",
       "      <td>2017</td>\n",
       "    </tr>\n",
       "    <tr>\n",
       "      <th>1</th>\n",
       "      <td>2017-01</td>\n",
       "      <td>ANG MO KIO</td>\n",
       "      <td>3 ROOM</td>\n",
       "      <td>108</td>\n",
       "      <td>ANG MO KIO AVE 4</td>\n",
       "      <td>01 TO 03</td>\n",
       "      <td>67.0</td>\n",
       "      <td>New Generation</td>\n",
       "      <td>1978</td>\n",
       "      <td>60 years 07 months</td>\n",
       "      <td>250000.0</td>\n",
       "      <td>2017</td>\n",
       "    </tr>\n",
       "    <tr>\n",
       "      <th>2</th>\n",
       "      <td>2017-01</td>\n",
       "      <td>ANG MO KIO</td>\n",
       "      <td>3 ROOM</td>\n",
       "      <td>602</td>\n",
       "      <td>ANG MO KIO AVE 5</td>\n",
       "      <td>01 TO 03</td>\n",
       "      <td>67.0</td>\n",
       "      <td>New Generation</td>\n",
       "      <td>1980</td>\n",
       "      <td>62 years 05 months</td>\n",
       "      <td>262000.0</td>\n",
       "      <td>2017</td>\n",
       "    </tr>\n",
       "    <tr>\n",
       "      <th>3</th>\n",
       "      <td>2017-01</td>\n",
       "      <td>ANG MO KIO</td>\n",
       "      <td>3 ROOM</td>\n",
       "      <td>465</td>\n",
       "      <td>ANG MO KIO AVE 10</td>\n",
       "      <td>04 TO 06</td>\n",
       "      <td>68.0</td>\n",
       "      <td>New Generation</td>\n",
       "      <td>1980</td>\n",
       "      <td>62 years 01 month</td>\n",
       "      <td>265000.0</td>\n",
       "      <td>2017</td>\n",
       "    </tr>\n",
       "    <tr>\n",
       "      <th>4</th>\n",
       "      <td>2017-01</td>\n",
       "      <td>ANG MO KIO</td>\n",
       "      <td>3 ROOM</td>\n",
       "      <td>601</td>\n",
       "      <td>ANG MO KIO AVE 5</td>\n",
       "      <td>01 TO 03</td>\n",
       "      <td>67.0</td>\n",
       "      <td>New Generation</td>\n",
       "      <td>1980</td>\n",
       "      <td>62 years 05 months</td>\n",
       "      <td>265000.0</td>\n",
       "      <td>2017</td>\n",
       "    </tr>\n",
       "  </tbody>\n",
       "</table>\n",
       "</div>"
      ],
      "text/plain": [
       "     month        town flat_type block        street_name storey_range  \\\n",
       "0  2017-01  ANG MO KIO    2 ROOM   406  ANG MO KIO AVE 10     10 TO 12   \n",
       "1  2017-01  ANG MO KIO    3 ROOM   108   ANG MO KIO AVE 4     01 TO 03   \n",
       "2  2017-01  ANG MO KIO    3 ROOM   602   ANG MO KIO AVE 5     01 TO 03   \n",
       "3  2017-01  ANG MO KIO    3 ROOM   465  ANG MO KIO AVE 10     04 TO 06   \n",
       "4  2017-01  ANG MO KIO    3 ROOM   601   ANG MO KIO AVE 5     01 TO 03   \n",
       "\n",
       "   floor_area_sqm      flat_model  lease_commence_date     remaining_lease  \\\n",
       "0            44.0        Improved                 1979  61 years 04 months   \n",
       "1            67.0  New Generation                 1978  60 years 07 months   \n",
       "2            67.0  New Generation                 1980  62 years 05 months   \n",
       "3            68.0  New Generation                 1980   62 years 01 month   \n",
       "4            67.0  New Generation                 1980  62 years 05 months   \n",
       "\n",
       "   resale_price  year  \n",
       "0      232000.0  2017  \n",
       "1      250000.0  2017  \n",
       "2      262000.0  2017  \n",
       "3      265000.0  2017  \n",
       "4      265000.0  2017  "
      ]
     },
     "execution_count": 19,
     "metadata": {},
     "output_type": "execute_result"
    }
   ],
   "source": [
    "df[\"year\"] = df.month.apply(lambda val: val.split(\"-\")[0])\n",
    "df.head()"
   ]
  },
  {
   "cell_type": "code",
   "execution_count": 20,
   "id": "94d86a94-a05c-4b38-a7fb-6cc4728ef67c",
   "metadata": {
    "execution": {
     "iopub.execute_input": "2024-04-10T09:00:21.330664Z",
     "iopub.status.busy": "2024-04-10T09:00:21.325777Z",
     "iopub.status.idle": "2024-04-10T09:00:23.334344Z",
     "shell.execute_reply": "2024-04-10T09:00:23.332810Z",
     "shell.execute_reply.started": "2024-04-10T09:00:21.330611Z"
    }
   },
   "outputs": [
    {
     "data": {
      "text/plain": [
       "<Axes: xlabel='year', ylabel='resale_price'>"
      ]
     },
     "execution_count": 20,
     "metadata": {},
     "output_type": "execute_result"
    },
    {
     "data": {
      "image/png": "[encoded data removed]",
      "text/plain": [
       "<Figure size 640x480 with 1 Axes>"
      ]
     },
     "metadata": {},
     "output_type": "display_data"
    }
   ],
   "source": [
    "sns.violinplot(df, x=\"year\", y=\"resale_price\")"
   ]
  },
  {
   "cell_type": "code",
   "execution_count": 21,
   "id": "6231c013-7cf5-4053-92ff-d9d9218b2626",
   "metadata": {
    "execution": {
     "iopub.execute_input": "2024-04-10T09:00:23.338587Z",
     "iopub.status.busy": "2024-04-10T09:00:23.338068Z",
     "iopub.status.idle": "2024-04-10T09:00:23.389843Z",
     "shell.execute_reply": "2024-04-10T09:00:23.382859Z",
     "shell.execute_reply.started": "2024-04-10T09:00:23.338562Z"
    }
   },
   "outputs": [
    {
     "data": {
      "text/html": [
       "<div>\n",
       "<style scoped>\n",
       "    .dataframe tbody tr th:only-of-type {\n",
       "        vertical-align: middle;\n",
       "    }\n",
       "\n",
       "    .dataframe tbody tr th {\n",
       "        vertical-align: top;\n",
       "    }\n",
       "\n",
       "    .dataframe thead th {\n",
       "        text-align: right;\n",
       "    }\n",
       "</style>\n",
       "<table border=\"1\" class=\"dataframe\">\n",
       "  <thead>\n",
       "    <tr style=\"text-align: right;\">\n",
       "      <th></th>\n",
       "      <th>month</th>\n",
       "      <th>town</th>\n",
       "      <th>flat_type</th>\n",
       "      <th>block</th>\n",
       "      <th>street_name</th>\n",
       "      <th>storey_range</th>\n",
       "      <th>floor_area_sqm</th>\n",
       "      <th>flat_model</th>\n",
       "      <th>lease_commence_date</th>\n",
       "      <th>remaining_lease</th>\n",
       "      <th>resale_price</th>\n",
       "      <th>year</th>\n",
       "    </tr>\n",
       "  </thead>\n",
       "  <tbody>\n",
       "    <tr>\n",
       "      <th>0</th>\n",
       "      <td>2017-01</td>\n",
       "      <td>ANG MO KIO</td>\n",
       "      <td>2 ROOM</td>\n",
       "      <td>406</td>\n",
       "      <td>ANG MO KIO AVE 10</td>\n",
       "      <td>10 TO 12</td>\n",
       "      <td>44.0</td>\n",
       "      <td>Improved</td>\n",
       "      <td>1979</td>\n",
       "      <td>61 years 04 months</td>\n",
       "      <td>232000.0</td>\n",
       "      <td>2017</td>\n",
       "    </tr>\n",
       "    <tr>\n",
       "      <th>1</th>\n",
       "      <td>2017-01</td>\n",
       "      <td>ANG MO KIO</td>\n",
       "      <td>3 ROOM</td>\n",
       "      <td>108</td>\n",
       "      <td>ANG MO KIO AVE 4</td>\n",
       "      <td>01 TO 03</td>\n",
       "      <td>67.0</td>\n",
       "      <td>New Generation</td>\n",
       "      <td>1978</td>\n",
       "      <td>60 years 07 months</td>\n",
       "      <td>250000.0</td>\n",
       "      <td>2017</td>\n",
       "    </tr>\n",
       "    <tr>\n",
       "      <th>2</th>\n",
       "      <td>2017-01</td>\n",
       "      <td>ANG MO KIO</td>\n",
       "      <td>3 ROOM</td>\n",
       "      <td>602</td>\n",
       "      <td>ANG MO KIO AVE 5</td>\n",
       "      <td>01 TO 03</td>\n",
       "      <td>67.0</td>\n",
       "      <td>New Generation</td>\n",
       "      <td>1980</td>\n",
       "      <td>62 years 05 months</td>\n",
       "      <td>262000.0</td>\n",
       "      <td>2017</td>\n",
       "    </tr>\n",
       "    <tr>\n",
       "      <th>3</th>\n",
       "      <td>2017-01</td>\n",
       "      <td>ANG MO KIO</td>\n",
       "      <td>3 ROOM</td>\n",
       "      <td>465</td>\n",
       "      <td>ANG MO KIO AVE 10</td>\n",
       "      <td>04 TO 06</td>\n",
       "      <td>68.0</td>\n",
       "      <td>New Generation</td>\n",
       "      <td>1980</td>\n",
       "      <td>62 years 01 month</td>\n",
       "      <td>265000.0</td>\n",
       "      <td>2017</td>\n",
       "    </tr>\n",
       "    <tr>\n",
       "      <th>4</th>\n",
       "      <td>2017-01</td>\n",
       "      <td>ANG MO KIO</td>\n",
       "      <td>3 ROOM</td>\n",
       "      <td>601</td>\n",
       "      <td>ANG MO KIO AVE 5</td>\n",
       "      <td>01 TO 03</td>\n",
       "      <td>67.0</td>\n",
       "      <td>New Generation</td>\n",
       "      <td>1980</td>\n",
       "      <td>62 years 05 months</td>\n",
       "      <td>265000.0</td>\n",
       "      <td>2017</td>\n",
       "    </tr>\n",
       "  </tbody>\n",
       "</table>\n",
       "</div>"
      ],
      "text/plain": [
       "     month        town flat_type block        street_name storey_range  \\\n",
       "0  2017-01  ANG MO KIO    2 ROOM   406  ANG MO KIO AVE 10     10 TO 12   \n",
       "1  2017-01  ANG MO KIO    3 ROOM   108   ANG MO KIO AVE 4     01 TO 03   \n",
       "2  2017-01  ANG MO KIO    3 ROOM   602   ANG MO KIO AVE 5     01 TO 03   \n",
       "3  2017-01  ANG MO KIO    3 ROOM   465  ANG MO KIO AVE 10     04 TO 06   \n",
       "4  2017-01  ANG MO KIO    3 ROOM   601   ANG MO KIO AVE 5     01 TO 03   \n",
       "\n",
       "   floor_area_sqm      flat_model  lease_commence_date     remaining_lease  \\\n",
       "0            44.0        Improved                 1979  61 years 04 months   \n",
       "1            67.0  New Generation                 1978  60 years 07 months   \n",
       "2            67.0  New Generation                 1980  62 years 05 months   \n",
       "3            68.0  New Generation                 1980   62 years 01 month   \n",
       "4            67.0  New Generation                 1980  62 years 05 months   \n",
       "\n",
       "   resale_price  year  \n",
       "0      232000.0  2017  \n",
       "1      250000.0  2017  \n",
       "2      262000.0  2017  \n",
       "3      265000.0  2017  \n",
       "4      265000.0  2017  "
      ]
     },
     "execution_count": 21,
     "metadata": {},
     "output_type": "execute_result"
    }
   ],
   "source": [
    "df.head()"
   ]
  },
  {
   "cell_type": "code",
   "execution_count": 11,
   "id": "a0090939-815a-4ce5-a172-3e0984e36fb4",
   "metadata": {
    "execution": {
     "iopub.execute_input": "2024-04-10T08:57:50.669938Z",
     "iopub.status.busy": "2024-04-10T08:57:50.668906Z",
     "iopub.status.idle": "2024-04-10T08:57:50.815707Z",
     "shell.execute_reply": "2024-04-10T08:57:50.811747Z",
     "shell.execute_reply.started": "2024-04-10T08:57:50.669871Z"
    }
   },
   "outputs": [
    {
     "name": "stdout",
     "output_type": "stream",
     "text": [
      "<class 'pandas.core.frame.DataFrame'>\n",
      "RangeIndex: 176737 entries, 0 to 176736\n",
      "Data columns (total 12 columns):\n",
      " #   Column               Non-Null Count   Dtype  \n",
      "---  ------               --------------   -----  \n",
      " 0   month                176737 non-null  object \n",
      " 1   town                 176737 non-null  object \n",
      " 2   flat_type            176737 non-null  object \n",
      " 3   block                176737 non-null  object \n",
      " 4   street_name          176737 non-null  object \n",
      " 5   storey_range         176737 non-null  object \n",
      " 6   floor_area_sqm       176737 non-null  float64\n",
      " 7   flat_model           176737 non-null  object \n",
      " 8   lease_commence_date  176737 non-null  int64  \n",
      " 9   remaining_lease      176737 non-null  object \n",
      " 10  resale_price         176737 non-null  float64\n",
      " 11  year                 176737 non-null  int64  \n",
      "dtypes: float64(2), int64(2), object(8)\n",
      "memory usage: 16.2+ MB\n"
     ]
    }
   ],
   "source": [
    "df.info()"
   ]
  },
  {
   "cell_type": "code",
   "execution_count": 49,
   "id": "d2f18a0b-d384-4bf4-9777-f7acbd2a4f19",
   "metadata": {
    "execution": {
     "iopub.execute_input": "2024-04-10T09:07:30.099224Z",
     "iopub.status.busy": "2024-04-10T09:07:30.090098Z",
     "iopub.status.idle": "2024-04-10T09:07:30.176620Z",
     "shell.execute_reply": "2024-04-10T09:07:30.173330Z",
     "shell.execute_reply.started": "2024-04-10T09:07:30.098490Z"
    }
   },
   "outputs": [
    {
     "name": "stdout",
     "output_type": "stream",
     "text": [
      "         count       mean        std        min        25%        50%  \\\n",
      "year                                                                    \n",
      "2017 20,509.00 443,888.52 149,148.32 175,000.00 338,000.00 410,000.00   \n",
      "2018 21,561.00 441,282.06 157,569.22 160,000.00 328,000.00 408,000.00   \n",
      "2019 22,186.00 432,137.91 153,975.69 150,000.00 320,000.00 400,000.00   \n",
      "2020 23,333.00 452,279.38 154,500.42 140,000.00 340,000.00 425,000.00   \n",
      "2021 29,087.00 511,381.24 162,619.25 180,000.00 399,000.00 483,000.00   \n",
      "2022 26,720.00 549,714.33 170,278.25 200,000.00 430,000.00 525,000.00   \n",
      "2023 25,762.00 571,801.22 173,817.42 150,000.00 450,000.00 550,000.00   \n",
      "2024  7,579.00 590,560.33 181,138.02 100,000.00 465,000.00 570,000.00   \n",
      "\n",
      "            75%          max  \n",
      "year                          \n",
      "2017 510,000.00 1,180,000.00  \n",
      "2018 515,888.00 1,185,000.00  \n",
      "2019 510,000.00 1,205,000.00  \n",
      "2020 534,000.00 1,258,000.00  \n",
      "2021 600,000.00 1,360,000.00  \n",
      "2022 640,000.00 1,418,000.00  \n",
      "2023 662,000.00 1,500,000.00  \n",
      "2024 688,000.00 1,568,888.00  \n"
     ]
    }
   ],
   "source": [
    "with pd.option_context(\"display.float_format\", \"{:,.2f}\".format):\n",
    "    print(df.groupby(\"year\")[\"resale_price\"].describe())"
   ]
  },
  {
   "cell_type": "code",
   "execution_count": 61,
   "id": "be26ced0-6733-43cc-863e-c3dc997fbd47",
   "metadata": {
    "execution": {
     "iopub.execute_input": "2024-04-10T09:11:11.725854Z",
     "iopub.status.busy": "2024-04-10T09:11:11.723585Z",
     "iopub.status.idle": "2024-04-10T09:11:12.140638Z",
     "shell.execute_reply": "2024-04-10T09:11:12.138748Z",
     "shell.execute_reply.started": "2024-04-10T09:11:11.725805Z"
    }
   },
   "outputs": [
    {
     "data": {
      "text/plain": [
       "<Axes: xlabel='flat_type', ylabel='resale_price'>"
      ]
     },
     "execution_count": 61,
     "metadata": {},
     "output_type": "execute_result"
    },
    {
     "data": {
      "image/png": "[encoded data removed]",
      "text/plain": [
       "<Figure size 640x480 with 1 Axes>"
      ]
     },
     "metadata": {},
     "output_type": "display_data"
    }
   ],
   "source": [
    "sns.violinplot(df.query('year == \"2024\"'), x=\"flat_type\", y=\"resale_price\")"
   ]
  },
  {
   "cell_type": "code",
   "execution_count": 74,
   "id": "f4e74153-6185-438d-ab3c-a07600abebc7",
   "metadata": {
    "execution": {
     "iopub.execute_input": "2024-04-10T09:14:30.013791Z",
     "iopub.status.busy": "2024-04-10T09:14:30.012889Z",
     "iopub.status.idle": "2024-04-10T09:14:30.075546Z",
     "shell.execute_reply": "2024-04-10T09:14:30.073888Z",
     "shell.execute_reply.started": "2024-04-10T09:14:30.013747Z"
    }
   },
   "outputs": [
    {
     "name": "stdout",
     "output_type": "stream",
     "text": [
      "<class 'pandas.core.frame.DataFrame'>\n",
      "Index: 186 entries, 169240 to 176735\n",
      "Data columns (total 12 columns):\n",
      " #   Column               Non-Null Count  Dtype  \n",
      "---  ------               --------------  -----  \n",
      " 0   month                186 non-null    object \n",
      " 1   town                 186 non-null    object \n",
      " 2   flat_type            186 non-null    object \n",
      " 3   block                186 non-null    object \n",
      " 4   street_name          186 non-null    object \n",
      " 5   storey_range         186 non-null    object \n",
      " 6   floor_area_sqm       186 non-null    float64\n",
      " 7   flat_model           186 non-null    object \n",
      " 8   lease_commence_date  186 non-null    int64  \n",
      " 9   remaining_lease      186 non-null    object \n",
      " 10  resale_price         186 non-null    float64\n",
      " 11  year                 186 non-null    object \n",
      "dtypes: float64(2), int64(1), object(9)\n",
      "memory usage: 18.9+ KB\n"
     ]
    }
   ],
   "source": [
    "resale_1mil = df.query('year == \"2024\" and resale_price > 1000000')\n",
    "resale_1mil.info()"
   ]
  },
  {
   "cell_type": "code",
   "execution_count": 73,
   "id": "fe4fc453-17cd-4c06-9ffb-80d61d97680b",
   "metadata": {
    "execution": {
     "iopub.execute_input": "2024-04-10T09:14:23.638374Z",
     "iopub.status.busy": "2024-04-10T09:14:23.637969Z",
     "iopub.status.idle": "2024-04-10T09:14:23.749978Z",
     "shell.execute_reply": "2024-04-10T09:14:23.740639Z",
     "shell.execute_reply.started": "2024-04-10T09:14:23.638347Z"
    }
   },
   "outputs": [
    {
     "data": {
      "text/html": [
       "<div>\n",
       "<style scoped>\n",
       "    .dataframe tbody tr th:only-of-type {\n",
       "        vertical-align: middle;\n",
       "    }\n",
       "\n",
       "    .dataframe tbody tr th {\n",
       "        vertical-align: top;\n",
       "    }\n",
       "\n",
       "    .dataframe thead th {\n",
       "        text-align: right;\n",
       "    }\n",
       "</style>\n",
       "<table border=\"1\" class=\"dataframe\">\n",
       "  <thead>\n",
       "    <tr style=\"text-align: right;\">\n",
       "      <th></th>\n",
       "      <th>count</th>\n",
       "      <th>mean</th>\n",
       "      <th>std</th>\n",
       "      <th>min</th>\n",
       "      <th>25%</th>\n",
       "      <th>50%</th>\n",
       "      <th>75%</th>\n",
       "      <th>max</th>\n",
       "    </tr>\n",
       "    <tr>\n",
       "      <th>flat_type</th>\n",
       "      <th></th>\n",
       "      <th></th>\n",
       "      <th></th>\n",
       "      <th></th>\n",
       "      <th></th>\n",
       "      <th></th>\n",
       "      <th></th>\n",
       "      <th></th>\n",
       "    </tr>\n",
       "  </thead>\n",
       "  <tbody>\n",
       "    <tr>\n",
       "      <th>3 ROOM</th>\n",
       "      <td>1.0</td>\n",
       "      <td>1.280000e+06</td>\n",
       "      <td>NaN</td>\n",
       "      <td>1280000.0</td>\n",
       "      <td>1280000.0</td>\n",
       "      <td>1280000.0</td>\n",
       "      <td>1280000.0</td>\n",
       "      <td>1280000.0</td>\n",
       "    </tr>\n",
       "    <tr>\n",
       "      <th>4 ROOM</th>\n",
       "      <td>52.0</td>\n",
       "      <td>1.089150e+06</td>\n",
       "      <td>79949.895664</td>\n",
       "      <td>1000088.0</td>\n",
       "      <td>1030000.0</td>\n",
       "      <td>1059250.0</td>\n",
       "      <td>1141000.0</td>\n",
       "      <td>1370000.0</td>\n",
       "    </tr>\n",
       "    <tr>\n",
       "      <th>5 ROOM</th>\n",
       "      <td>77.0</td>\n",
       "      <td>1.149777e+06</td>\n",
       "      <td>135156.270987</td>\n",
       "      <td>1000088.0</td>\n",
       "      <td>1060000.0</td>\n",
       "      <td>1100000.0</td>\n",
       "      <td>1210000.0</td>\n",
       "      <td>1568888.0</td>\n",
       "    </tr>\n",
       "    <tr>\n",
       "      <th>EXECUTIVE</th>\n",
       "      <td>54.0</td>\n",
       "      <td>1.142957e+06</td>\n",
       "      <td>116857.259914</td>\n",
       "      <td>1000888.0</td>\n",
       "      <td>1046250.0</td>\n",
       "      <td>1105000.0</td>\n",
       "      <td>1208000.0</td>\n",
       "      <td>1480000.0</td>\n",
       "    </tr>\n",
       "    <tr>\n",
       "      <th>MULTI-GENERATION</th>\n",
       "      <td>2.0</td>\n",
       "      <td>1.130000e+06</td>\n",
       "      <td>98994.949366</td>\n",
       "      <td>1060000.0</td>\n",
       "      <td>1095000.0</td>\n",
       "      <td>1130000.0</td>\n",
       "      <td>1165000.0</td>\n",
       "      <td>1200000.0</td>\n",
       "    </tr>\n",
       "  </tbody>\n",
       "</table>\n",
       "</div>"
      ],
      "text/plain": [
       "                  count          mean            std        min        25%  \\\n",
       "flat_type                                                                    \n",
       "3 ROOM              1.0  1.280000e+06            NaN  1280000.0  1280000.0   \n",
       "4 ROOM             52.0  1.089150e+06   79949.895664  1000088.0  1030000.0   \n",
       "5 ROOM             77.0  1.149777e+06  135156.270987  1000088.0  1060000.0   \n",
       "EXECUTIVE          54.0  1.142957e+06  116857.259914  1000888.0  1046250.0   \n",
       "MULTI-GENERATION    2.0  1.130000e+06   98994.949366  1060000.0  1095000.0   \n",
       "\n",
       "                        50%        75%        max  \n",
       "flat_type                                          \n",
       "3 ROOM            1280000.0  1280000.0  1280000.0  \n",
       "4 ROOM            1059250.0  1141000.0  1370000.0  \n",
       "5 ROOM            1100000.0  1210000.0  1568888.0  \n",
       "EXECUTIVE         1105000.0  1208000.0  1480000.0  \n",
       "MULTI-GENERATION  1130000.0  1165000.0  1200000.0  "
      ]
     },
     "execution_count": 73,
     "metadata": {},
     "output_type": "execute_result"
    }
   ],
   "source": [
    "resale_1mil.groupby(\"flat_type\").resale_price.describe()"
   ]
  },
  {
   "cell_type": "code",
   "execution_count": 84,
   "id": "d08b08dd-15bb-4379-adfa-26b3f92a0d68",
   "metadata": {
    "execution": {
     "iopub.execute_input": "2024-04-10T09:19:14.602976Z",
     "iopub.status.busy": "2024-04-10T09:19:14.602475Z",
     "iopub.status.idle": "2024-04-10T09:19:14.652596Z",
     "shell.execute_reply": "2024-04-10T09:19:14.650591Z",
     "shell.execute_reply.started": "2024-04-10T09:19:14.602937Z"
    }
   },
   "outputs": [
    {
     "data": {
      "text/html": [
       "<div>\n",
       "<style scoped>\n",
       "    .dataframe tbody tr th:only-of-type {\n",
       "        vertical-align: middle;\n",
       "    }\n",
       "\n",
       "    .dataframe tbody tr th {\n",
       "        vertical-align: top;\n",
       "    }\n",
       "\n",
       "    .dataframe thead th {\n",
       "        text-align: right;\n",
       "    }\n",
       "</style>\n",
       "<table border=\"1\" class=\"dataframe\">\n",
       "  <thead>\n",
       "    <tr style=\"text-align: right;\">\n",
       "      <th></th>\n",
       "      <th>172813</th>\n",
       "    </tr>\n",
       "  </thead>\n",
       "  <tbody>\n",
       "    <tr>\n",
       "      <th>month</th>\n",
       "      <td>2024-02</td>\n",
       "    </tr>\n",
       "    <tr>\n",
       "      <th>town</th>\n",
       "      <td>KALLANG/WHAMPOA</td>\n",
       "    </tr>\n",
       "    <tr>\n",
       "      <th>flat_type</th>\n",
       "      <td>3 ROOM</td>\n",
       "    </tr>\n",
       "    <tr>\n",
       "      <th>block</th>\n",
       "      <td>58</td>\n",
       "    </tr>\n",
       "    <tr>\n",
       "      <th>street_name</th>\n",
       "      <td>JLN MA'MOR</td>\n",
       "    </tr>\n",
       "    <tr>\n",
       "      <th>storey_range</th>\n",
       "      <td>01 TO 03</td>\n",
       "    </tr>\n",
       "    <tr>\n",
       "      <th>floor_area_sqm</th>\n",
       "      <td>208.0</td>\n",
       "    </tr>\n",
       "    <tr>\n",
       "      <th>flat_model</th>\n",
       "      <td>Terrace</td>\n",
       "    </tr>\n",
       "    <tr>\n",
       "      <th>lease_commence_date</th>\n",
       "      <td>1972</td>\n",
       "    </tr>\n",
       "    <tr>\n",
       "      <th>remaining_lease</th>\n",
       "      <td>47 years 06 months</td>\n",
       "    </tr>\n",
       "    <tr>\n",
       "      <th>resale_price</th>\n",
       "      <td>1280000.0</td>\n",
       "    </tr>\n",
       "    <tr>\n",
       "      <th>year</th>\n",
       "      <td>2024</td>\n",
       "    </tr>\n",
       "  </tbody>\n",
       "</table>\n",
       "</div>"
      ],
      "text/plain": [
       "                                 172813\n",
       "month                           2024-02\n",
       "town                    KALLANG/WHAMPOA\n",
       "flat_type                        3 ROOM\n",
       "block                                58\n",
       "street_name                  JLN MA'MOR\n",
       "storey_range                   01 TO 03\n",
       "floor_area_sqm                    208.0\n",
       "flat_model                      Terrace\n",
       "lease_commence_date                1972\n",
       "remaining_lease      47 years 06 months\n",
       "resale_price                  1280000.0\n",
       "year                               2024"
      ]
     },
     "execution_count": 84,
     "metadata": {},
     "output_type": "execute_result"
    }
   ],
   "source": [
    "resale_1mil[resale_1mil[\"flat_type\"] == \"3 ROOM\"].T"
   ]
  }
 ],
 "metadata": {
  "kernelspec": {
   "display_name": "Python 3 (ipykernel)",
   "language": "python",
   "name": "python3"
  },
  "language_info": {
   "codemirror_mode": {
    "name": "ipython",
    "version": 3
   },
   "file_extension": ".py",
   "mimetype": "text/x-python",
   "name": "python",
   "nbconvert_exporter": "python",
   "pygments_lexer": "ipython3",
   "version": "3.11.9"
  },
  "widgets": {
   "application/vnd.jupyter.widget-state+json": {
    "state": {},
    "version_major": 2,
    "version_minor": 0
   }
  }
 },
 "nbformat": 4,
 "nbformat_minor": 5
}
