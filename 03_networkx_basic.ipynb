{
 "cells": [
  {
   "cell_type": "markdown",
   "id": "72d0806a-c9da-4dde-9801-7ddff15862b6",
   "metadata": {},
   "source": [
    "# Networkx Basics\n",
    "\n",
    "https://networkx.org/documentation/stable/tutorial.html"
   ]
  },
  {
   "cell_type": "markdown",
   "id": "06572bc9-9df5-4426-a2c3-563ab9817751",
   "metadata": {},
   "source": [
    "## Creating a graph"
   ]
  },
  {
   "cell_type": "code",
   "execution_count": 113,
   "id": "aff99951-a204-48bb-aefd-3531b4fe2cec",
   "metadata": {
    "execution": {
     "iopub.execute_input": "2024-04-13T17:39:08.293185Z",
     "iopub.status.busy": "2024-04-13T17:39:08.291637Z",
     "iopub.status.idle": "2024-04-13T17:39:08.302012Z",
     "shell.execute_reply": "2024-04-13T17:39:08.299954Z",
     "shell.execute_reply.started": "2024-04-13T17:39:08.292935Z"
    }
   },
   "outputs": [],
   "source": [
    "import networkx as nx\n",
    "\n",
    "G = nx.Graph()"
   ]
  },
  {
   "cell_type": "markdown",
   "id": "194fad60-db32-403d-9e90-65a3df8802f9",
   "metadata": {},
   "source": [
    "## Nodes"
   ]
  },
  {
   "cell_type": "code",
   "execution_count": 114,
   "id": "5e196d02-4f78-4cee-8a37-e3905ff68cc2",
   "metadata": {
    "execution": {
     "iopub.execute_input": "2024-04-13T17:39:08.307088Z",
     "iopub.status.busy": "2024-04-13T17:39:08.306455Z",
     "iopub.status.idle": "2024-04-13T17:39:08.317325Z",
     "shell.execute_reply": "2024-04-13T17:39:08.314832Z",
     "shell.execute_reply.started": "2024-04-13T17:39:08.307045Z"
    }
   },
   "outputs": [],
   "source": [
    "G.add_node(1)\n",
    "G.add_nodes_from([2, 3])\n",
    "G.add_nodes_from([(4, {\"color\": \"red\"}), (5, {\"color\": \"green\"})])"
   ]
  },
  {
   "cell_type": "code",
   "execution_count": 115,
   "id": "41e674d7-cf02-4f0e-859c-ab7a34168f04",
   "metadata": {
    "execution": {
     "iopub.execute_input": "2024-04-13T17:39:08.321216Z",
     "iopub.status.busy": "2024-04-13T17:39:08.320162Z",
     "iopub.status.idle": "2024-04-13T17:39:08.331005Z",
     "shell.execute_reply": "2024-04-13T17:39:08.328844Z",
     "shell.execute_reply.started": "2024-04-13T17:39:08.321173Z"
    }
   },
   "outputs": [],
   "source": [
    "H = nx.path_graph(10)\n",
    "G.add_nodes_from(H)\n",
    "G.add_node(H)"
   ]
  },
  {
   "cell_type": "markdown",
   "id": "6be11009-b0a8-45ee-819b-e2592e941663",
   "metadata": {},
   "source": [
    "## Edges"
   ]
  },
  {
   "cell_type": "code",
   "execution_count": 116,
   "id": "c4fa5d19-8c72-4eb5-a15e-9e0ce496a274",
   "metadata": {
    "execution": {
     "iopub.execute_input": "2024-04-13T17:39:08.336874Z",
     "iopub.status.busy": "2024-04-13T17:39:08.335408Z",
     "iopub.status.idle": "2024-04-13T17:39:08.392876Z",
     "shell.execute_reply": "2024-04-13T17:39:08.342705Z",
     "shell.execute_reply.started": "2024-04-13T17:39:08.336486Z"
    }
   },
   "outputs": [],
   "source": [
    "G.add_edge(1, 2)\n",
    "e = (2, 3)\n",
    "G.add_edge(*e)  # Unpack edge tuple."
   ]
  },
  {
   "cell_type": "code",
   "execution_count": 117,
   "id": "60830a79-d255-4f4e-8d4b-c3d601fa8634",
   "metadata": {
    "execution": {
     "iopub.execute_input": "2024-04-13T17:39:08.398244Z",
     "iopub.status.busy": "2024-04-13T17:39:08.397486Z",
     "iopub.status.idle": "2024-04-13T17:39:08.427287Z",
     "shell.execute_reply": "2024-04-13T17:39:08.424822Z",
     "shell.execute_reply.started": "2024-04-13T17:39:08.398197Z"
    }
   },
   "outputs": [],
   "source": [
    "G.add_edges_from([(1, 2), (1, 3)])"
   ]
  },
  {
   "cell_type": "code",
   "execution_count": 118,
   "id": "f3c41e18-6e34-4edb-b28d-3c671e49003d",
   "metadata": {
    "execution": {
     "iopub.execute_input": "2024-04-13T17:39:08.445786Z",
     "iopub.status.busy": "2024-04-13T17:39:08.445272Z",
     "iopub.status.idle": "2024-04-13T17:39:08.462396Z",
     "shell.execute_reply": "2024-04-13T17:39:08.460986Z",
     "shell.execute_reply.started": "2024-04-13T17:39:08.445730Z"
    }
   },
   "outputs": [],
   "source": [
    "G.add_edges_from(H.edges)"
   ]
  },
  {
   "cell_type": "code",
   "execution_count": 119,
   "id": "876c8389-df45-4be9-a606-7ae3dcfcf9b2",
   "metadata": {
    "execution": {
     "iopub.execute_input": "2024-04-13T17:39:08.466788Z",
     "iopub.status.busy": "2024-04-13T17:39:08.465912Z",
     "iopub.status.idle": "2024-04-13T17:39:08.497863Z",
     "shell.execute_reply": "2024-04-13T17:39:08.496538Z",
     "shell.execute_reply.started": "2024-04-13T17:39:08.466748Z"
    }
   },
   "outputs": [],
   "source": [
    "G.clear()"
   ]
  },
  {
   "cell_type": "code",
   "execution_count": 120,
   "id": "a717b79a-aaa7-4061-b2aa-55986dbacf35",
   "metadata": {
    "execution": {
     "iopub.execute_input": "2024-04-13T17:39:08.535722Z",
     "iopub.status.busy": "2024-04-13T17:39:08.534906Z",
     "iopub.status.idle": "2024-04-13T17:39:08.550696Z",
     "shell.execute_reply": "2024-04-13T17:39:08.542569Z",
     "shell.execute_reply.started": "2024-04-13T17:39:08.535677Z"
    }
   },
   "outputs": [],
   "source": [
    "G.add_edges_from([(1, 2), (1, 3)])\n",
    "G.add_node(1)\n",
    "G.add_edge(1, 2)\n",
    "G.add_node(\"spam\")  # adds node \"spam\"\n",
    "G.add_nodes_from(\"spam\")  # adds 4 nodes: 's', 'p', 'a', 'm'\n",
    "G.add_edge(3, \"m\")"
   ]
  },
  {
   "cell_type": "code",
   "execution_count": 121,
   "id": "dad33a65-2b34-4b04-ae2b-e6563b21b98a",
   "metadata": {
    "execution": {
     "iopub.execute_input": "2024-04-13T17:39:08.560813Z",
     "iopub.status.busy": "2024-04-13T17:39:08.559378Z",
     "iopub.status.idle": "2024-04-13T17:39:08.582863Z",
     "shell.execute_reply": "2024-04-13T17:39:08.581417Z",
     "shell.execute_reply.started": "2024-04-13T17:39:08.560760Z"
    }
   },
   "outputs": [
    {
     "data": {
      "text/plain": [
       "8"
      ]
     },
     "execution_count": 121,
     "metadata": {},
     "output_type": "execute_result"
    }
   ],
   "source": [
    "G.number_of_nodes()"
   ]
  },
  {
   "cell_type": "code",
   "execution_count": 122,
   "id": "c664bd81-d352-4dee-92eb-9f13530c68f6",
   "metadata": {
    "execution": {
     "iopub.execute_input": "2024-04-13T17:39:08.622396Z",
     "iopub.status.busy": "2024-04-13T17:39:08.615570Z",
     "iopub.status.idle": "2024-04-13T17:39:08.634690Z",
     "shell.execute_reply": "2024-04-13T17:39:08.633063Z",
     "shell.execute_reply.started": "2024-04-13T17:39:08.622329Z"
    }
   },
   "outputs": [
    {
     "data": {
      "text/plain": [
       "3"
      ]
     },
     "execution_count": 122,
     "metadata": {},
     "output_type": "execute_result"
    }
   ],
   "source": [
    "G.number_of_edges()"
   ]
  },
  {
   "cell_type": "code",
   "execution_count": 123,
   "id": "f443c65b-6398-4dc7-8e8a-6f9fdfcc0a1f",
   "metadata": {
    "execution": {
     "iopub.execute_input": "2024-04-13T17:39:08.639879Z",
     "iopub.status.busy": "2024-04-13T17:39:08.638559Z",
     "iopub.status.idle": "2024-04-13T17:39:08.662133Z",
     "shell.execute_reply": "2024-04-13T17:39:08.653074Z",
     "shell.execute_reply.started": "2024-04-13T17:39:08.639836Z"
    }
   },
   "outputs": [
    {
     "data": {
      "text/plain": [
       "AdjacencyView({2: {1: {}, 4: {}}, 1: {3: {}, 2: {}}, 3: {}, 4: {}})"
      ]
     },
     "execution_count": 123,
     "metadata": {},
     "output_type": "execute_result"
    }
   ],
   "source": [
    "DG = nx.DiGraph()\n",
    "DG.add_edge(2, 1)\n",
    "DG.add_edge(1, 3)\n",
    "DG.add_edge(2, 4)\n",
    "DG.add_edge(1, 2)\n",
    "assert list(DG.successors(2)) == [1, 4]\n",
    "assert list(DG.successors(1)) == [3, 2]\n",
    "# This follows the order of the adjacencies.\n",
    "assert list(DG.edges) == [(2, 1), (2, 4), (1, 3), (1, 2)]\n",
    "DG.adj"
   ]
  },
  {
   "cell_type": "markdown",
   "id": "fd7bc1a1-9ead-4dce-9a60-330ed7b856e4",
   "metadata": {},
   "source": [
    "## Examining elements of a graph"
   ]
  },
  {
   "cell_type": "code",
   "execution_count": 124,
   "id": "4b25f6eb-1dfb-4b58-a637-25084930e433",
   "metadata": {
    "execution": {
     "iopub.execute_input": "2024-04-13T17:39:08.665706Z",
     "iopub.status.busy": "2024-04-13T17:39:08.664941Z",
     "iopub.status.idle": "2024-04-13T17:39:08.694176Z",
     "shell.execute_reply": "2024-04-13T17:39:08.691694Z",
     "shell.execute_reply.started": "2024-04-13T17:39:08.665666Z"
    }
   },
   "outputs": [
    {
     "data": {
      "text/plain": [
       "[1, 2, 3, 'spam', 's', 'p', 'a', 'm']"
      ]
     },
     "execution_count": 124,
     "metadata": {},
     "output_type": "execute_result"
    }
   ],
   "source": [
    "list(G.nodes)"
   ]
  },
  {
   "cell_type": "code",
   "execution_count": 125,
   "id": "f10fdd50-f578-431c-a5bf-4364d325b6e8",
   "metadata": {
    "execution": {
     "iopub.execute_input": "2024-04-13T17:39:08.696493Z",
     "iopub.status.busy": "2024-04-13T17:39:08.695875Z",
     "iopub.status.idle": "2024-04-13T17:39:08.718677Z",
     "shell.execute_reply": "2024-04-13T17:39:08.716947Z",
     "shell.execute_reply.started": "2024-04-13T17:39:08.696339Z"
    }
   },
   "outputs": [
    {
     "data": {
      "text/plain": [
       "[(1, 2), (1, 3), (3, 'm')]"
      ]
     },
     "execution_count": 125,
     "metadata": {},
     "output_type": "execute_result"
    }
   ],
   "source": [
    "list(G.edges)"
   ]
  },
  {
   "cell_type": "code",
   "execution_count": 126,
   "id": "ccc8a260-be51-4cb4-a68d-8523f8183110",
   "metadata": {
    "execution": {
     "iopub.execute_input": "2024-04-13T17:39:08.722990Z",
     "iopub.status.busy": "2024-04-13T17:39:08.721956Z",
     "iopub.status.idle": "2024-04-13T17:39:08.737182Z",
     "shell.execute_reply": "2024-04-13T17:39:08.733163Z",
     "shell.execute_reply.started": "2024-04-13T17:39:08.722960Z"
    }
   },
   "outputs": [
    {
     "data": {
      "text/plain": [
       "([2, 3], [2, 3])"
      ]
     },
     "execution_count": 126,
     "metadata": {},
     "output_type": "execute_result"
    }
   ],
   "source": [
    "list(G.adj[1]), list(G.neighbors(1))"
   ]
  },
  {
   "cell_type": "code",
   "execution_count": 127,
   "id": "80a7079e-ad2d-42a7-86be-b3dc3ef8d7bb",
   "metadata": {
    "execution": {
     "iopub.execute_input": "2024-04-13T17:39:08.739193Z",
     "iopub.status.busy": "2024-04-13T17:39:08.738695Z",
     "iopub.status.idle": "2024-04-13T17:39:08.755321Z",
     "shell.execute_reply": "2024-04-13T17:39:08.753162Z",
     "shell.execute_reply.started": "2024-04-13T17:39:08.739156Z"
    }
   },
   "outputs": [
    {
     "data": {
      "text/plain": [
       "2"
      ]
     },
     "execution_count": 127,
     "metadata": {},
     "output_type": "execute_result"
    }
   ],
   "source": [
    "G.degree[1]  # The number of edges incident to 1"
   ]
  },
  {
   "cell_type": "code",
   "execution_count": 128,
   "id": "19ab4081-6bc1-47cf-b309-42d9d809fd14",
   "metadata": {
    "execution": {
     "iopub.execute_input": "2024-04-13T17:39:08.761756Z",
     "iopub.status.busy": "2024-04-13T17:39:08.759463Z",
     "iopub.status.idle": "2024-04-13T17:39:08.777396Z",
     "shell.execute_reply": "2024-04-13T17:39:08.772957Z",
     "shell.execute_reply.started": "2024-04-13T17:39:08.761712Z"
    }
   },
   "outputs": [
    {
     "data": {
      "text/plain": [
       "EdgeDataView([(2, 1), ('m', 3)])"
      ]
     },
     "execution_count": 128,
     "metadata": {},
     "output_type": "execute_result"
    }
   ],
   "source": [
    "G.edges([2, \"m\"])"
   ]
  },
  {
   "cell_type": "code",
   "execution_count": 129,
   "id": "bb879edc-53ed-4bf1-9d87-ebf777d0f0e4",
   "metadata": {
    "execution": {
     "iopub.execute_input": "2024-04-13T17:39:08.780456Z",
     "iopub.status.busy": "2024-04-13T17:39:08.778962Z",
     "iopub.status.idle": "2024-04-13T17:39:08.795473Z",
     "shell.execute_reply": "2024-04-13T17:39:08.790600Z",
     "shell.execute_reply.started": "2024-04-13T17:39:08.780406Z"
    }
   },
   "outputs": [
    {
     "data": {
      "text/plain": [
       "DegreeView({2: 1, 3: 2})"
      ]
     },
     "execution_count": 129,
     "metadata": {},
     "output_type": "execute_result"
    }
   ],
   "source": [
    "G.degree([2, 3])"
   ]
  },
  {
   "cell_type": "markdown",
   "id": "0eb70871-da34-4c9d-8ed1-abfb61f67460",
   "metadata": {},
   "source": [
    "## Removing elements from a graph"
   ]
  },
  {
   "cell_type": "code",
   "execution_count": 130,
   "id": "654f4028-9f76-4c28-b0ba-af22d2c5ef0b",
   "metadata": {
    "execution": {
     "iopub.execute_input": "2024-04-13T17:39:08.798356Z",
     "iopub.status.busy": "2024-04-13T17:39:08.797661Z",
     "iopub.status.idle": "2024-04-13T17:39:08.810722Z",
     "shell.execute_reply": "2024-04-13T17:39:08.806483Z",
     "shell.execute_reply.started": "2024-04-13T17:39:08.798317Z"
    }
   },
   "outputs": [
    {
     "data": {
      "text/plain": [
       "[1, 2, 3, 'spam', 's', 'p', 'a', 'm']"
      ]
     },
     "execution_count": 130,
     "metadata": {},
     "output_type": "execute_result"
    }
   ],
   "source": [
    "list(G.nodes)"
   ]
  },
  {
   "cell_type": "code",
   "execution_count": 131,
   "id": "87f0a757-5514-47cc-9e0e-c76d8d6e5621",
   "metadata": {
    "execution": {
     "iopub.execute_input": "2024-04-13T17:39:08.814059Z",
     "iopub.status.busy": "2024-04-13T17:39:08.813360Z",
     "iopub.status.idle": "2024-04-13T17:39:08.826381Z",
     "shell.execute_reply": "2024-04-13T17:39:08.823167Z",
     "shell.execute_reply.started": "2024-04-13T17:39:08.814020Z"
    }
   },
   "outputs": [
    {
     "data": {
      "text/plain": [
       "[1, 3, 'spam']"
      ]
     },
     "execution_count": 131,
     "metadata": {},
     "output_type": "execute_result"
    }
   ],
   "source": [
    "G.remove_node(2)\n",
    "G.remove_nodes_from(\"spam\")\n",
    "list(G.nodes)"
   ]
  },
  {
   "cell_type": "markdown",
   "id": "69bb82c6-7847-45b0-b9b3-d03f712d18c2",
   "metadata": {},
   "source": [
    "## Using the graph constructors"
   ]
  },
  {
   "cell_type": "code",
   "execution_count": 132,
   "id": "cab611f9-79ee-4c8e-aaf4-373e459f6b7d",
   "metadata": {
    "execution": {
     "iopub.execute_input": "2024-04-13T17:39:55.692063Z",
     "iopub.status.busy": "2024-04-13T17:39:55.690545Z",
     "iopub.status.idle": "2024-04-13T17:39:55.724650Z",
     "shell.execute_reply": "2024-04-13T17:39:55.723010Z",
     "shell.execute_reply.started": "2024-04-13T17:39:55.692012Z"
    }
   },
   "outputs": [
    {
     "data": {
      "text/plain": [
       "[(1, 3), (1, 2), (3, 1), (2, 1)]"
      ]
     },
     "execution_count": 132,
     "metadata": {},
     "output_type": "execute_result"
    }
   ],
   "source": [
    "G.add_edge(1, 2)\n",
    "# Create a DiGraph using the connections from G.\n",
    "H = nx.DiGraph(G)\n",
    "list(H.edges())"
   ]
  },
  {
   "cell_type": "code",
   "execution_count": 133,
   "id": "48e12797-8124-4335-95da-83b2feb0b990",
   "metadata": {
    "execution": {
     "iopub.execute_input": "2024-04-13T17:40:25.740778Z",
     "iopub.status.busy": "2024-04-13T17:40:25.740220Z",
     "iopub.status.idle": "2024-04-13T17:40:27.666644Z",
     "shell.execute_reply": "2024-04-13T17:40:27.665903Z",
     "shell.execute_reply.started": "2024-04-13T17:40:25.740735Z"
    }
   },
   "outputs": [
    {
     "data": {
      "text/plain": [
       "[(0, 1), (1, 2), (2, 3)]"
      ]
     },
     "execution_count": 133,
     "metadata": {},
     "output_type": "execute_result"
    }
   ],
   "source": [
    "edgelist = [(0, 1), (1, 2), (2, 3)]\n",
    "# Create a graph from an edge list.\n",
    "H = nx.Graph(edgelist)\n",
    "list(H.edges())"
   ]
  },
  {
   "cell_type": "code",
   "execution_count": 134,
   "id": "aa091d44-ea1c-4500-8fa6-1e2d422ee0f3",
   "metadata": {
    "execution": {
     "iopub.execute_input": "2024-04-13T17:41:06.206083Z",
     "iopub.status.busy": "2024-04-13T17:41:06.204517Z",
     "iopub.status.idle": "2024-04-13T17:41:06.254519Z",
     "shell.execute_reply": "2024-04-13T17:41:06.252860Z",
     "shell.execute_reply.started": "2024-04-13T17:41:06.205955Z"
    }
   },
   "outputs": [
    {
     "data": {
      "text/plain": [
       "[(0, 1), (0, 2), (1, 2)]"
      ]
     },
     "execution_count": 134,
     "metadata": {},
     "output_type": "execute_result"
    }
   ],
   "source": [
    "adjacency_dict = {0: (1, 2), 1: (0, 2), 2: (0, 1)}\n",
    "# Create a graph dict mapping nodes to nbrs.\n",
    "H = nx.Graph(adjacency_dict)\n",
    "list(H.edges())"
   ]
  },
  {
   "cell_type": "markdown",
   "id": "1fb35abd-9ddf-4a29-8e45-77dddba5d59d",
   "metadata": {},
   "source": [
    "## Accessing edges and neighbors"
   ]
  },
  {
   "cell_type": "code",
   "execution_count": 135,
   "id": "cdb33e0e-1741-478c-9588-5d158f7324ec",
   "metadata": {
    "execution": {
     "iopub.execute_input": "2024-04-13T17:46:42.978128Z",
     "iopub.status.busy": "2024-04-13T17:46:42.977510Z",
     "iopub.status.idle": "2024-04-13T17:46:43.030816Z",
     "shell.execute_reply": "2024-04-13T17:46:43.029389Z",
     "shell.execute_reply.started": "2024-04-13T17:46:42.978086Z"
    }
   },
   "outputs": [
    {
     "data": {
      "text/plain": [
       "AtlasView({2: {'color': 'yellow'}})"
      ]
     },
     "execution_count": 135,
     "metadata": {},
     "output_type": "execute_result"
    }
   ],
   "source": [
    "G = nx.Graph([(1, 2, {\"color\": \"yellow\"})])\n",
    "G[1]  # Same as G.adj[1]"
   ]
  },
  {
   "cell_type": "code",
   "execution_count": 137,
   "id": "f51056ea-bd00-4917-8bde-a2be1104ed0b",
   "metadata": {
    "execution": {
     "iopub.execute_input": "2024-04-13T17:47:08.810679Z",
     "iopub.status.busy": "2024-04-13T17:47:08.810322Z",
     "iopub.status.idle": "2024-04-13T17:47:08.894899Z",
     "shell.execute_reply": "2024-04-13T17:47:08.887270Z",
     "shell.execute_reply.started": "2024-04-13T17:47:08.810654Z"
    }
   },
   "outputs": [
    {
     "data": {
      "text/plain": [
       "{'color': 'yellow'}"
      ]
     },
     "execution_count": 137,
     "metadata": {},
     "output_type": "execute_result"
    }
   ],
   "source": [
    "G[1][2]"
   ]
  },
  {
   "cell_type": "code",
   "execution_count": 138,
   "id": "bf827b43-b575-4593-b541-b04c4c35cd13",
   "metadata": {
    "execution": {
     "iopub.execute_input": "2024-04-13T17:47:13.743821Z",
     "iopub.status.busy": "2024-04-13T17:47:13.743365Z",
     "iopub.status.idle": "2024-04-13T17:47:13.818686Z",
     "shell.execute_reply": "2024-04-13T17:47:13.790164Z",
     "shell.execute_reply.started": "2024-04-13T17:47:13.743796Z"
    }
   },
   "outputs": [
    {
     "data": {
      "text/plain": [
       "{'color': 'yellow'}"
      ]
     },
     "execution_count": 138,
     "metadata": {},
     "output_type": "execute_result"
    }
   ],
   "source": [
    "G.edges[1, 2]"
   ]
  },
  {
   "cell_type": "code",
   "execution_count": 142,
   "id": "f529344f-f9a7-4df2-819d-6931591dc0ce",
   "metadata": {
    "execution": {
     "iopub.execute_input": "2024-04-13T17:47:47.956724Z",
     "iopub.status.busy": "2024-04-13T17:47:47.956249Z",
     "iopub.status.idle": "2024-04-13T17:47:48.008017Z",
     "shell.execute_reply": "2024-04-13T17:47:48.002061Z",
     "shell.execute_reply.started": "2024-04-13T17:47:47.956697Z"
    }
   },
   "outputs": [
    {
     "data": {
      "text/plain": [
       "{'color': 'red'}"
      ]
     },
     "execution_count": 142,
     "metadata": {},
     "output_type": "execute_result"
    }
   ],
   "source": [
    "G.add_edge(1, 3)\n",
    "G[1][3][\"color\"] = \"blue\"\n",
    "G.edges[1, 2][\"color\"] = \"red\"\n",
    "G.edges[1, 2]"
   ]
  },
  {
   "cell_type": "code",
   "execution_count": 146,
   "id": "6b814c5e-7af1-4f0a-82ec-df065ef6a418",
   "metadata": {
    "execution": {
     "iopub.execute_input": "2024-04-13T17:50:15.405245Z",
     "iopub.status.busy": "2024-04-13T17:50:15.404488Z",
     "iopub.status.idle": "2024-04-13T17:50:15.494750Z",
     "shell.execute_reply": "2024-04-13T17:50:15.422007Z",
     "shell.execute_reply.started": "2024-04-13T17:50:15.405162Z"
    }
   },
   "outputs": [
    {
     "name": "stdout",
     "output_type": "stream",
     "text": [
      "(1, 2, 0.125)\n",
      "(2, 1, 0.125)\n",
      "(3, 4, 0.375)\n",
      "(4, 3, 0.375)\n"
     ]
    }
   ],
   "source": [
    "# For unidirected graph, adjacency iteration sees each edge twice.\n",
    "FG = nx.Graph()\n",
    "FG.add_weighted_edges_from([(1, 2, 0.125), (1, 3, 0.75), (2, 4, 1.2), (3, 4, 0.375)])\n",
    "for n, nbrs in FG.adj.items():\n",
    "    for nbr, eattr in nbrs.items():\n",
    "        wt = eattr[\"weight\"]\n",
    "        if wt < 0.5:\n",
    "            print(f\"({n}, {nbr}, {wt:.3})\")"
   ]
  },
  {
   "cell_type": "code",
   "execution_count": 147,
   "id": "62470f02-12a8-4622-8436-18874b225614",
   "metadata": {
    "execution": {
     "iopub.execute_input": "2024-04-13T17:50:48.736833Z",
     "iopub.status.busy": "2024-04-13T17:50:48.735917Z",
     "iopub.status.idle": "2024-04-13T17:50:48.801227Z",
     "shell.execute_reply": "2024-04-13T17:50:48.754192Z",
     "shell.execute_reply.started": "2024-04-13T17:50:48.736789Z"
    }
   },
   "outputs": [
    {
     "name": "stdout",
     "output_type": "stream",
     "text": [
      "(1, 2, 0.125)\n",
      "(3, 4, 0.375)\n"
     ]
    }
   ],
   "source": [
    "for u, v, wt in FG.edges.data(\"weight\"):\n",
    "    if wt < 0.5:\n",
    "        print(f\"({u}, {v}, {wt:.3})\")"
   ]
  },
  {
   "cell_type": "markdown",
   "id": "05a78f83-d20b-459d-b843-8a651df32401",
   "metadata": {},
   "source": [
    "## Adding attributes to graphs, nodes, and edges"
   ]
  },
  {
   "cell_type": "code",
   "execution_count": 151,
   "id": "5cafe159-9372-4e80-9bf1-3b5ef5da12fc",
   "metadata": {
    "execution": {
     "iopub.execute_input": "2024-04-13T17:51:32.753835Z",
     "iopub.status.busy": "2024-04-13T17:51:32.753291Z",
     "iopub.status.idle": "2024-04-13T17:51:32.776218Z",
     "shell.execute_reply": "2024-04-13T17:51:32.773626Z",
     "shell.execute_reply.started": "2024-04-13T17:51:32.753803Z"
    }
   },
   "outputs": [
    {
     "data": {
      "text/plain": [
       "{'day': 'Friday'}"
      ]
     },
     "execution_count": 151,
     "metadata": {},
     "output_type": "execute_result"
    }
   ],
   "source": [
    "G = nx.Graph(day=\"Friday\")\n",
    "G.graph"
   ]
  },
  {
   "cell_type": "code",
   "execution_count": 153,
   "id": "ac3dd5db-c98c-4c7d-a0fd-b0ddc286f5c0",
   "metadata": {
    "execution": {
     "iopub.execute_input": "2024-04-13T17:51:48.440290Z",
     "iopub.status.busy": "2024-04-13T17:51:48.438723Z",
     "iopub.status.idle": "2024-04-13T17:51:48.516099Z",
     "shell.execute_reply": "2024-04-13T17:51:48.514401Z",
     "shell.execute_reply.started": "2024-04-13T17:51:48.440039Z"
    }
   },
   "outputs": [
    {
     "data": {
      "text/plain": [
       "{'day': 'Monday'}"
      ]
     },
     "execution_count": 153,
     "metadata": {},
     "output_type": "execute_result"
    }
   ],
   "source": [
    "G.graph[\"day\"] = \"Monday\"\n",
    "G.graph"
   ]
  },
  {
   "cell_type": "code",
   "execution_count": 154,
   "id": "183859b8-60e5-43d0-b5e8-9996fbbedfc7",
   "metadata": {
    "execution": {
     "iopub.execute_input": "2024-04-13T17:52:54.947935Z",
     "iopub.status.busy": "2024-04-13T17:52:54.945658Z",
     "iopub.status.idle": "2024-04-13T17:52:55.067220Z",
     "shell.execute_reply": "2024-04-13T17:52:55.060616Z",
     "shell.execute_reply.started": "2024-04-13T17:52:54.947896Z"
    }
   },
   "outputs": [
    {
     "data": {
      "text/plain": [
       "{'time': '5pm'}"
      ]
     },
     "execution_count": 154,
     "metadata": {},
     "output_type": "execute_result"
    }
   ],
   "source": [
    "G.add_node(1, time=\"5pm\")\n",
    "G.add_nodes_from([3], time=\"2pm\")\n",
    "G.nodes[1]"
   ]
  },
  {
   "cell_type": "code",
   "execution_count": 155,
   "id": "dc7f9bfc-42a1-42a8-b0c8-c8cb95e5a5cc",
   "metadata": {
    "execution": {
     "iopub.execute_input": "2024-04-13T17:53:03.466102Z",
     "iopub.status.busy": "2024-04-13T17:53:03.464765Z",
     "iopub.status.idle": "2024-04-13T17:53:03.507757Z",
     "shell.execute_reply": "2024-04-13T17:53:03.501147Z",
     "shell.execute_reply.started": "2024-04-13T17:53:03.466055Z"
    }
   },
   "outputs": [
    {
     "data": {
      "text/plain": [
       "NodeDataView({1: {'time': '5pm', 'room': 714}, 3: {'time': '2pm'}})"
      ]
     },
     "execution_count": 155,
     "metadata": {},
     "output_type": "execute_result"
    }
   ],
   "source": [
    "G.nodes[1][\"room\"] = 714\n",
    "G.nodes.data()"
   ]
  },
  {
   "cell_type": "markdown",
   "id": "bafcca62-25ea-4189-890d-1b95138a5039",
   "metadata": {},
   "source": [
    "## Edge Attributes"
   ]
  },
  {
   "cell_type": "code",
   "execution_count": 164,
   "id": "98a0144a-0e8c-4955-9fb6-a76b0e56c580",
   "metadata": {
    "execution": {
     "iopub.execute_input": "2024-04-13T17:55:17.911036Z",
     "iopub.status.busy": "2024-04-13T17:55:17.908026Z",
     "iopub.status.idle": "2024-04-13T17:55:17.943826Z",
     "shell.execute_reply": "2024-04-13T17:55:17.933039Z",
     "shell.execute_reply.started": "2024-04-13T17:55:17.910948Z"
    }
   },
   "outputs": [],
   "source": [
    "G.add_edge(1, 2, weight=4.7)\n",
    "G.add_edges_from([(3, 4), (4, 5)], color=\"red\")\n",
    "G.add_edges_from([(1, 2, {\"color\": \"blue\"}), (2, 3, {\"weight\": 8})])\n",
    "G[1][2][\"weight\"] = 4.7\n",
    "G.edges[3, 4][\"weight\"] = 4.2"
   ]
  },
  {
   "cell_type": "markdown",
   "id": "2ee04817-1041-4ae6-a690-b1fc1379eacf",
   "metadata": {},
   "source": [
    "## Directed graphs"
   ]
  },
  {
   "cell_type": "code",
   "execution_count": 165,
   "id": "8339d648-2798-42dd-8122-5c737a72f637",
   "metadata": {
    "execution": {
     "iopub.execute_input": "2024-04-13T17:55:37.493482Z",
     "iopub.status.busy": "2024-04-13T17:55:37.492340Z",
     "iopub.status.idle": "2024-04-13T17:55:37.568687Z",
     "shell.execute_reply": "2024-04-13T17:55:37.539115Z",
     "shell.execute_reply.started": "2024-04-13T17:55:37.493407Z"
    }
   },
   "outputs": [
    {
     "data": {
      "text/plain": [
       "0.5"
      ]
     },
     "execution_count": 165,
     "metadata": {},
     "output_type": "execute_result"
    }
   ],
   "source": [
    "DG = nx.DiGraph()\n",
    "DG.add_weighted_edges_from([(1, 2, 0.5), (3, 1, 0.75)])\n",
    "DG.out_degree(1, weight=\"weight\")"
   ]
  },
  {
   "cell_type": "code",
   "execution_count": 166,
   "id": "45007d9e-c6a0-4b8e-bc4a-f845b73b7d00",
   "metadata": {
    "execution": {
     "iopub.execute_input": "2024-04-13T17:55:45.290848Z",
     "iopub.status.busy": "2024-04-13T17:55:45.289553Z",
     "iopub.status.idle": "2024-04-13T17:55:45.395286Z",
     "shell.execute_reply": "2024-04-13T17:55:45.393895Z",
     "shell.execute_reply.started": "2024-04-13T17:55:45.290758Z"
    }
   },
   "outputs": [
    {
     "data": {
      "text/plain": [
       "1.25"
      ]
     },
     "execution_count": 166,
     "metadata": {},
     "output_type": "execute_result"
    }
   ],
   "source": [
    "DG.degree(1, weight=\"weight\")"
   ]
  },
  {
   "cell_type": "code",
   "execution_count": 167,
   "id": "68cf9cef-220e-478a-8a07-76b3990e693d",
   "metadata": {
    "execution": {
     "iopub.execute_input": "2024-04-13T17:56:08.628460Z",
     "iopub.status.busy": "2024-04-13T17:56:08.627478Z",
     "iopub.status.idle": "2024-04-13T17:56:08.639503Z",
     "shell.execute_reply": "2024-04-13T17:56:08.638428Z",
     "shell.execute_reply.started": "2024-04-13T17:56:08.628424Z"
    }
   },
   "outputs": [
    {
     "data": {
      "text/plain": [
       "[2]"
      ]
     },
     "execution_count": 167,
     "metadata": {},
     "output_type": "execute_result"
    }
   ],
   "source": [
    "list(DG.successors(1))"
   ]
  },
  {
   "cell_type": "code",
   "execution_count": 168,
   "id": "bf8da7ac-0202-4c5c-83ce-b98794befe73",
   "metadata": {
    "execution": {
     "iopub.execute_input": "2024-04-13T17:56:13.513287Z",
     "iopub.status.busy": "2024-04-13T17:56:13.512154Z",
     "iopub.status.idle": "2024-04-13T17:56:13.550568Z",
     "shell.execute_reply": "2024-04-13T17:56:13.547040Z",
     "shell.execute_reply.started": "2024-04-13T17:56:13.513240Z"
    }
   },
   "outputs": [
    {
     "data": {
      "text/plain": [
       "[2]"
      ]
     },
     "execution_count": 168,
     "metadata": {},
     "output_type": "execute_result"
    }
   ],
   "source": [
    "list(DG.neighbors(1))"
   ]
  },
  {
   "cell_type": "code",
   "execution_count": 169,
   "id": "c3f7273f-7083-4dde-8117-de138bc549dc",
   "metadata": {
    "execution": {
     "iopub.execute_input": "2024-04-13T17:56:22.382359Z",
     "iopub.status.busy": "2024-04-13T17:56:22.382003Z",
     "iopub.status.idle": "2024-04-13T17:56:22.389089Z",
     "shell.execute_reply": "2024-04-13T17:56:22.387211Z",
     "shell.execute_reply.started": "2024-04-13T17:56:22.382336Z"
    }
   },
   "outputs": [],
   "source": [
    "H = nx.Graph(G)  # create an undirected graph H from a directed graph G"
   ]
  },
  {
   "cell_type": "markdown",
   "id": "1dd722e3-02dc-4631-8b6c-7ffdc75cabe0",
   "metadata": {},
   "source": [
    "## Multigraphs"
   ]
  },
  {
   "cell_type": "code",
   "execution_count": 172,
   "id": "a9f1b22b-241e-47d8-8bdf-458427ef3bb1",
   "metadata": {
    "execution": {
     "iopub.execute_input": "2024-04-13T17:57:16.671041Z",
     "iopub.status.busy": "2024-04-13T17:57:16.670274Z",
     "iopub.status.idle": "2024-04-13T17:57:16.732058Z",
     "shell.execute_reply": "2024-04-13T17:57:16.692835Z",
     "shell.execute_reply.started": "2024-04-13T17:57:16.670993Z"
    }
   },
   "outputs": [
    {
     "data": {
      "text/plain": [
       "{1: 1.25, 2: 1.75, 3: 0.5}"
      ]
     },
     "execution_count": 172,
     "metadata": {},
     "output_type": "execute_result"
    }
   ],
   "source": [
    "MG = nx.MultiGraph()\n",
    "MG.add_weighted_edges_from([(1, 2, 0.5), (1, 2, 0.75), (2, 3, 0.5)])\n",
    "dict(MG.degree(weight=\"weight\"))"
   ]
  },
  {
   "cell_type": "code",
   "execution_count": 179,
   "id": "90b48605-044f-4cfc-9b7e-6e54046a11de",
   "metadata": {
    "execution": {
     "iopub.execute_input": "2024-04-13T17:59:40.270541Z",
     "iopub.status.busy": "2024-04-13T17:59:40.269811Z",
     "iopub.status.idle": "2024-04-13T17:59:40.332996Z",
     "shell.execute_reply": "2024-04-13T17:59:40.324751Z",
     "shell.execute_reply.started": "2024-04-13T17:59:40.270511Z"
    }
   },
   "outputs": [
    {
     "data": {
      "text/plain": [
       "[1, 2, 3]"
      ]
     },
     "execution_count": 179,
     "metadata": {},
     "output_type": "execute_result"
    }
   ],
   "source": [
    "GG = nx.Graph()\n",
    "for n, nbrs in MG.adjacency():\n",
    "    for nbr, edict in nbrs.items():\n",
    "        minvalue = min([d[\"weight\"] for d in edict.values()])\n",
    "        GG.add_edge(n, nbr, weight=minvalue)\n",
    "nx.shortest_path(GG, 1, 3)"
   ]
  },
  {
   "cell_type": "markdown",
   "id": "2d3fbd1c-4176-4211-a620-bb5dbcaaf5cd",
   "metadata": {},
   "source": [
    "## Analyzing graphs"
   ]
  },
  {
   "cell_type": "code",
   "execution_count": 181,
   "id": "3b81286f-748b-4afd-91c6-54dfdadf672f",
   "metadata": {
    "execution": {
     "iopub.execute_input": "2024-04-13T18:00:46.762950Z",
     "iopub.status.busy": "2024-04-13T18:00:46.756533Z",
     "iopub.status.idle": "2024-04-13T18:00:46.807722Z",
     "shell.execute_reply": "2024-04-13T18:00:46.796010Z",
     "shell.execute_reply.started": "2024-04-13T18:00:46.759157Z"
    }
   },
   "outputs": [
    {
     "data": {
      "text/plain": [
       "[{1, 2, 3}, {'spam'}]"
      ]
     },
     "execution_count": 181,
     "metadata": {},
     "output_type": "execute_result"
    }
   ],
   "source": [
    "G = nx.Graph()\n",
    "G.add_edges_from([(1, 2), (1, 3)])\n",
    "G.add_node(\"spam\")\n",
    "list(nx.connected_components(G))"
   ]
  },
  {
   "cell_type": "code",
   "execution_count": 182,
   "id": "d0c42a86-8bf5-4c28-a548-eb53354f6513",
   "metadata": {
    "execution": {
     "iopub.execute_input": "2024-04-13T18:00:50.251608Z",
     "iopub.status.busy": "2024-04-13T18:00:50.232680Z",
     "iopub.status.idle": "2024-04-13T18:00:50.297411Z",
     "shell.execute_reply": "2024-04-13T18:00:50.287283Z",
     "shell.execute_reply.started": "2024-04-13T18:00:50.251555Z"
    }
   },
   "outputs": [
    {
     "data": {
      "text/plain": [
       "[0, 1, 1, 2]"
      ]
     },
     "execution_count": 182,
     "metadata": {},
     "output_type": "execute_result"
    }
   ],
   "source": [
    "sorted(d for n, d in G.degree())"
   ]
  },
  {
   "cell_type": "code",
   "execution_count": 183,
   "id": "ffb23aa7-7d3d-401b-8157-72314ed9396d",
   "metadata": {
    "execution": {
     "iopub.execute_input": "2024-04-13T18:00:58.266193Z",
     "iopub.status.busy": "2024-04-13T18:00:58.221665Z",
     "iopub.status.idle": "2024-04-13T18:00:58.312541Z",
     "shell.execute_reply": "2024-04-13T18:00:58.307276Z",
     "shell.execute_reply.started": "2024-04-13T18:00:58.266138Z"
    }
   },
   "outputs": [
    {
     "data": {
      "text/plain": [
       "{1: 0, 2: 0, 3: 0, 'spam': 0}"
      ]
     },
     "execution_count": 183,
     "metadata": {},
     "output_type": "execute_result"
    }
   ],
   "source": [
    "nx.clustering(G)"
   ]
  },
  {
   "cell_type": "code",
   "execution_count": 187,
   "id": "38d6dbe2-7fd9-43cc-8f31-f9326a57f81e",
   "metadata": {
    "execution": {
     "iopub.execute_input": "2024-04-13T18:01:42.062121Z",
     "iopub.status.busy": "2024-04-13T18:01:42.061045Z",
     "iopub.status.idle": "2024-04-13T18:01:42.079596Z",
     "shell.execute_reply": "2024-04-13T18:01:42.078305Z",
     "shell.execute_reply.started": "2024-04-13T18:01:42.062068Z"
    }
   },
   "outputs": [
    {
     "data": {
      "text/plain": [
       "{3: [3], 1: [3, 1], 2: [3, 1, 2]}"
      ]
     },
     "execution_count": 187,
     "metadata": {},
     "output_type": "execute_result"
    }
   ],
   "source": [
    "sp = dict(nx.all_pairs_shortest_path(G))\n",
    "sp[3]"
   ]
  },
  {
   "cell_type": "markdown",
   "id": "304b932c-2889-4af6-aad3-b02363da3e1c",
   "metadata": {},
   "source": [
    "## Drawing graphs"
   ]
  },
  {
   "cell_type": "code",
   "execution_count": 188,
   "id": "3cd067fa-d080-4415-a757-4e127eebaeb7",
   "metadata": {
    "execution": {
     "iopub.execute_input": "2024-04-13T18:02:24.892488Z",
     "iopub.status.busy": "2024-04-13T18:02:24.891880Z",
     "iopub.status.idle": "2024-04-13T18:02:24.909892Z",
     "shell.execute_reply": "2024-04-13T18:02:24.907413Z",
     "shell.execute_reply.started": "2024-04-13T18:02:24.892445Z"
    }
   },
   "outputs": [],
   "source": [
    "import matplotlib.pyplot as plt"
   ]
  },
  {
   "cell_type": "code",
   "execution_count": 189,
   "id": "0a1bb132-4f6f-4873-badb-7d0c061edd85",
   "metadata": {
    "execution": {
     "iopub.execute_input": "2024-04-13T18:02:36.794727Z",
     "iopub.status.busy": "2024-04-13T18:02:36.793029Z",
     "iopub.status.idle": "2024-04-13T18:02:37.155736Z",
     "shell.execute_reply": "2024-04-13T18:02:37.152848Z",
     "shell.execute_reply.started": "2024-04-13T18:02:36.794691Z"
    }
   },
   "outputs": [
    {
     "data": {
      "image/png": "[encoded data removed]",
      "text/plain": [
       "<Figure size 640x480 with 2 Axes>"
      ]
     },
     "metadata": {},
     "output_type": "display_data"
    }
   ],
   "source": [
    "G = nx.petersen_graph()\n",
    "subax1 = plt.subplot(121)\n",
    "nx.draw(G, with_labels=True, font_weight=\"bold\")\n",
    "subax2 = plt.subplot(122)\n",
    "nx.draw_shell(G, nlist=[range(5, 10), range(5)], with_labels=True, font_weight=\"bold\")"
   ]
  },
  {
   "cell_type": "code",
   "execution_count": 192,
   "id": "0437677c-074b-4955-ae6f-a842d59d0c70",
   "metadata": {
    "execution": {
     "iopub.execute_input": "2024-04-13T18:04:15.279678Z",
     "iopub.status.busy": "2024-04-13T18:04:15.277886Z",
     "iopub.status.idle": "2024-04-13T18:04:15.781291Z",
     "shell.execute_reply": "2024-04-13T18:04:15.780344Z",
     "shell.execute_reply.started": "2024-04-13T18:04:15.279640Z"
    }
   },
   "outputs": [
    {
     "data": {
      "image/png": "[encoded data removed]",
      "text/plain": [
       "<Figure size 640x480 with 4 Axes>"
      ]
     },
     "metadata": {},
     "output_type": "display_data"
    }
   ],
   "source": [
    "options = {\n",
    "    \"node_color\": \"black\",\n",
    "    \"node_size\": 100,\n",
    "    \"width\": 3,\n",
    "}\n",
    "subax1 = plt.subplot(221)\n",
    "nx.draw_random(G, **options)\n",
    "subax2 = plt.subplot(222)\n",
    "nx.draw_circular(G, **options)\n",
    "subax3 = plt.subplot(223)\n",
    "nx.draw_spectral(G, **options)\n",
    "subax4 = plt.subplot(224)\n",
    "nx.draw_shell(G, nlist=[range(5, 10), range(5)], **options)"
   ]
  },
  {
   "cell_type": "code",
   "execution_count": 196,
   "id": "a79976a0-52bb-4853-ad70-09a2bdd0aec2",
   "metadata": {
    "execution": {
     "iopub.execute_input": "2024-04-13T18:04:47.800147Z",
     "iopub.status.busy": "2024-04-13T18:04:47.799163Z",
     "iopub.status.idle": "2024-04-13T18:04:48.183983Z",
     "shell.execute_reply": "2024-04-13T18:04:48.180123Z",
     "shell.execute_reply.started": "2024-04-13T18:04:47.800105Z"
    }
   },
   "outputs": [
    {
     "data": {
      "image/png": "[encoded data removed]",
      "text/plain": [
       "<Figure size 640x480 with 1 Axes>"
      ]
     },
     "metadata": {},
     "output_type": "display_data"
    }
   ],
   "source": [
    "G = nx.dodecahedral_graph()\n",
    "shells = [[2, 3, 4, 5, 6], [8, 1, 0, 19, 18, 17, 16, 15, 14, 7], [9, 10, 11, 12, 13]]\n",
    "nx.draw_shell(G, nlist=shells, **options)"
   ]
  },
  {
   "cell_type": "code",
   "execution_count": 197,
   "id": "4e0f0026-6bd1-4410-b679-603c14fa105c",
   "metadata": {
    "execution": {
     "iopub.execute_input": "2024-04-13T18:05:30.724691Z",
     "iopub.status.busy": "2024-04-13T18:05:30.724093Z",
     "iopub.status.idle": "2024-04-13T18:05:31.198923Z",
     "shell.execute_reply": "2024-04-13T18:05:31.196704Z",
     "shell.execute_reply.started": "2024-04-13T18:05:30.724651Z"
    }
   },
   "outputs": [
    {
     "data": {
      "image/png": "[encoded data removed]",
      "text/plain": [
       "<Figure size 640x480 with 1 Axes>"
      ]
     },
     "metadata": {},
     "output_type": "display_data"
    }
   ],
   "source": [
    "nx.draw(G)\n",
    "plt.savefig(\"path.png\")"
   ]
  },
  {
   "cell_type": "code",
   "execution_count": 199,
   "id": "27d40ccb-f3d3-4b85-a7b2-48a51fe7616d",
   "metadata": {
    "execution": {
     "iopub.execute_input": "2024-04-13T18:06:25.316817Z",
     "iopub.status.busy": "2024-04-13T18:06:25.316142Z",
     "iopub.status.idle": "2024-04-13T18:06:25.436665Z",
     "shell.execute_reply": "2024-04-13T18:06:25.433842Z",
     "shell.execute_reply.started": "2024-04-13T18:06:25.316779Z"
    }
   },
   "outputs": [
    {
     "ename": "ImportError",
     "evalue": "requires pygraphviz http://pygraphviz.github.io/",
     "output_type": "error",
     "traceback": [
      "\u001b[0;31m---------------------------------------------------------------------------\u001b[0m",
      "\u001b[0;31mModuleNotFoundError\u001b[0m                       Traceback (most recent call last)",
      "File \u001b[0;32m~/Documents/python/python-introduction-to-statistical-learning/.venv/lib/python3.11/site-packages/networkx/drawing/nx_agraph.py:302\u001b[0m, in \u001b[0;36mpygraphviz_layout\u001b[0;34m(G, prog, root, args)\u001b[0m\n\u001b[1;32m    301\u001b[0m \u001b[38;5;28;01mtry\u001b[39;00m:\n\u001b[0;32m--> 302\u001b[0m     \u001b[38;5;28;01mimport\u001b[39;00m \u001b[38;5;21;01mpygraphviz\u001b[39;00m\n\u001b[1;32m    303\u001b[0m \u001b[38;5;28;01mexcept\u001b[39;00m \u001b[38;5;167;01mImportError\u001b[39;00m \u001b[38;5;28;01mas\u001b[39;00m err:\n",
      "\u001b[0;31mModuleNotFoundError\u001b[0m: No module named 'pygraphviz'",
      "\nThe above exception was the direct cause of the following exception:\n",
      "\u001b[0;31mImportError\u001b[0m                               Traceback (most recent call last)",
      "Cell \u001b[0;32mIn[199], line 2\u001b[0m\n\u001b[1;32m      1\u001b[0m \u001b[38;5;28;01mfrom\u001b[39;00m \u001b[38;5;21;01mnetworkx\u001b[39;00m\u001b[38;5;21;01m.\u001b[39;00m\u001b[38;5;21;01mdrawing\u001b[39;00m\u001b[38;5;21;01m.\u001b[39;00m\u001b[38;5;21;01mnx_pydot\u001b[39;00m \u001b[38;5;28;01mimport\u001b[39;00m write_dot\n\u001b[0;32m----> 2\u001b[0m pos \u001b[38;5;241m=\u001b[39m \u001b[43mnx\u001b[49m\u001b[38;5;241;43m.\u001b[39;49m\u001b[43mnx_agraph\u001b[49m\u001b[38;5;241;43m.\u001b[39;49m\u001b[43mgraphviz_layout\u001b[49m\u001b[43m(\u001b[49m\u001b[43mG\u001b[49m\u001b[43m)\u001b[49m\n\u001b[1;32m      3\u001b[0m nx\u001b[38;5;241m.\u001b[39mdraw(G, pos\u001b[38;5;241m=\u001b[39mpos)\n\u001b[1;32m      4\u001b[0m write_dot(G, \u001b[38;5;124m'\u001b[39m\u001b[38;5;124mfile.dot\u001b[39m\u001b[38;5;124m'\u001b[39m)\n",
      "File \u001b[0;32m~/Documents/python/python-introduction-to-statistical-learning/.venv/lib/python3.11/site-packages/networkx/drawing/nx_agraph.py:258\u001b[0m, in \u001b[0;36mgraphviz_layout\u001b[0;34m(G, prog, root, args)\u001b[0m\n\u001b[1;32m    227\u001b[0m \u001b[38;5;28;01mdef\u001b[39;00m \u001b[38;5;21mgraphviz_layout\u001b[39m(G, prog\u001b[38;5;241m=\u001b[39m\u001b[38;5;124m\"\u001b[39m\u001b[38;5;124mneato\u001b[39m\u001b[38;5;124m\"\u001b[39m, root\u001b[38;5;241m=\u001b[39m\u001b[38;5;28;01mNone\u001b[39;00m, args\u001b[38;5;241m=\u001b[39m\u001b[38;5;124m\"\u001b[39m\u001b[38;5;124m\"\u001b[39m):\n\u001b[1;32m    228\u001b[0m \u001b[38;5;250m    \u001b[39m\u001b[38;5;124;03m\"\"\"Create node positions for G using Graphviz.\u001b[39;00m\n\u001b[1;32m    229\u001b[0m \n\u001b[1;32m    230\u001b[0m \u001b[38;5;124;03m    Parameters\u001b[39;00m\n\u001b[0;32m   (...)\u001b[0m\n\u001b[1;32m    256\u001b[0m \u001b[38;5;124;03m    see https://gitlab.com/graphviz/graphviz/-/issues/1767 for more info.\u001b[39;00m\n\u001b[1;32m    257\u001b[0m \u001b[38;5;124;03m    \"\"\"\u001b[39;00m\n\u001b[0;32m--> 258\u001b[0m     \u001b[38;5;28;01mreturn\u001b[39;00m \u001b[43mpygraphviz_layout\u001b[49m\u001b[43m(\u001b[49m\u001b[43mG\u001b[49m\u001b[43m,\u001b[49m\u001b[43m \u001b[49m\u001b[43mprog\u001b[49m\u001b[38;5;241;43m=\u001b[39;49m\u001b[43mprog\u001b[49m\u001b[43m,\u001b[49m\u001b[43m \u001b[49m\u001b[43mroot\u001b[49m\u001b[38;5;241;43m=\u001b[39;49m\u001b[43mroot\u001b[49m\u001b[43m,\u001b[49m\u001b[43m \u001b[49m\u001b[43margs\u001b[49m\u001b[38;5;241;43m=\u001b[39;49m\u001b[43margs\u001b[49m\u001b[43m)\u001b[49m\n",
      "File \u001b[0;32m~/Documents/python/python-introduction-to-statistical-learning/.venv/lib/python3.11/site-packages/networkx/drawing/nx_agraph.py:304\u001b[0m, in \u001b[0;36mpygraphviz_layout\u001b[0;34m(G, prog, root, args)\u001b[0m\n\u001b[1;32m    302\u001b[0m     \u001b[38;5;28;01mimport\u001b[39;00m \u001b[38;5;21;01mpygraphviz\u001b[39;00m\n\u001b[1;32m    303\u001b[0m \u001b[38;5;28;01mexcept\u001b[39;00m \u001b[38;5;167;01mImportError\u001b[39;00m \u001b[38;5;28;01mas\u001b[39;00m err:\n\u001b[0;32m--> 304\u001b[0m     \u001b[38;5;28;01mraise\u001b[39;00m \u001b[38;5;167;01mImportError\u001b[39;00m(\u001b[38;5;124m\"\u001b[39m\u001b[38;5;124mrequires pygraphviz http://pygraphviz.github.io/\u001b[39m\u001b[38;5;124m\"\u001b[39m) \u001b[38;5;28;01mfrom\u001b[39;00m \u001b[38;5;21;01merr\u001b[39;00m\n\u001b[1;32m    305\u001b[0m \u001b[38;5;28;01mif\u001b[39;00m root \u001b[38;5;129;01mis\u001b[39;00m \u001b[38;5;129;01mnot\u001b[39;00m \u001b[38;5;28;01mNone\u001b[39;00m:\n\u001b[1;32m    306\u001b[0m     args \u001b[38;5;241m+\u001b[39m\u001b[38;5;241m=\u001b[39m \u001b[38;5;124mf\u001b[39m\u001b[38;5;124m\"\u001b[39m\u001b[38;5;124m-Groot=\u001b[39m\u001b[38;5;132;01m{\u001b[39;00mroot\u001b[38;5;132;01m}\u001b[39;00m\u001b[38;5;124m\"\u001b[39m\n",
      "\u001b[0;31mImportError\u001b[0m: requires pygraphviz http://pygraphviz.github.io/"
     ]
    }
   ],
   "source": [
    "# from networkx.drawing.nx_pydot import write_dot\n",
    "\n",
    "# pos = nx.nx_agraph.graphviz_layout(G)\n",
    "# nx.draw(G, pos=pos)\n",
    "# write_dot(G, \"file.dot\")"
   ]
  }
 ],
 "metadata": {
  "kernelspec": {
   "display_name": "Python 3 (ipykernel)",
   "language": "python",
   "name": "python3"
  },
  "language_info": {
   "codemirror_mode": {
    "name": "ipython",
    "version": 3
   },
   "file_extension": ".py",
   "mimetype": "text/x-python",
   "name": "python",
   "nbconvert_exporter": "python",
   "pygments_lexer": "ipython3",
   "version": "3.11.9"
  },
  "widgets": {
   "application/vnd.jupyter.widget-state+json": {
    "state": {},
    "version_major": 2,
    "version_minor": 0
   }
  }
 },
 "nbformat": 4,
 "nbformat_minor": 5
}
